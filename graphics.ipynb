{
 "cells": [
  {
   "cell_type": "code",
   "execution_count": 2,
   "metadata": {},
   "outputs": [],
   "source": [
    "import numpy as np\n",
    "np.random.seed(1234)"
   ]
  },
  {
   "cell_type": "code",
   "execution_count": 1,
   "metadata": {},
   "outputs": [
    {
     "name": "stdout",
     "output_type": "stream",
     "text": [
      "pygame 2.1.3.dev8 (SDL 2.26.2, Python 3.11.0)\n",
      "Hello from the pygame community. https://www.pygame.org/contribute.html\n"
     ]
    }
   ],
   "source": [
    "import numpy as np\n",
    "import pygame\n",
    "# pygame.init()"
   ]
  },
  {
   "attachments": {},
   "cell_type": "markdown",
   "metadata": {},
   "source": [
    "# Graphics"
   ]
  },
  {
   "cell_type": "code",
   "execution_count": 27,
   "metadata": {},
   "outputs": [],
   "source": [
    "pygame.display.init()"
   ]
  },
  {
   "cell_type": "code",
   "execution_count": 28,
   "metadata": {},
   "outputs": [],
   "source": [
    "BLACK = (0, 0, 0)\n",
    "WHITE = (255, 255, 255)\n",
    "RED = (255, 0, 0)\n",
    "GREEN = (0, 255, 0)\n",
    "BLUE = (0, 0, 255)\n",
    "\n",
    "# For each cell:\n",
    "WIDTH = 30\n",
    "HEIGHT = 30\n",
    "\n",
    "MARGIN = 5\n",
    "\n",
    "# For the grid:\n",
    "ROWS = 10\n",
    "COLUMNS = 10"
   ]
  },
  {
   "cell_type": "code",
   "execution_count": 29,
   "metadata": {},
   "outputs": [
    {
     "data": {
      "text/plain": [
       "array([[[0, 0],\n",
       "        [0, 0],\n",
       "        [0, 0],\n",
       "        [0, 0],\n",
       "        [0, 0],\n",
       "        [0, 0],\n",
       "        [0, 0],\n",
       "        [0, 0],\n",
       "        [0, 0],\n",
       "        [0, 0]],\n",
       "\n",
       "       [[0, 0],\n",
       "        [0, 0],\n",
       "        [0, 0],\n",
       "        [0, 0],\n",
       "        [0, 0],\n",
       "        [0, 0],\n",
       "        [0, 0],\n",
       "        [0, 0],\n",
       "        [0, 0],\n",
       "        [0, 0]],\n",
       "\n",
       "       [[0, 0],\n",
       "        [0, 0],\n",
       "        [0, 0],\n",
       "        [0, 0],\n",
       "        [0, 0],\n",
       "        [0, 0],\n",
       "        [0, 0],\n",
       "        [0, 0],\n",
       "        [0, 0],\n",
       "        [0, 0]],\n",
       "\n",
       "       [[0, 0],\n",
       "        [0, 0],\n",
       "        [0, 0],\n",
       "        [0, 0],\n",
       "        [0, 0],\n",
       "        [0, 0],\n",
       "        [0, 0],\n",
       "        [0, 0],\n",
       "        [0, 0],\n",
       "        [0, 0]],\n",
       "\n",
       "       [[0, 0],\n",
       "        [0, 0],\n",
       "        [0, 0],\n",
       "        [0, 0],\n",
       "        [0, 0],\n",
       "        [0, 0],\n",
       "        [0, 0],\n",
       "        [0, 0],\n",
       "        [0, 0],\n",
       "        [0, 0]],\n",
       "\n",
       "       [[0, 0],\n",
       "        [0, 0],\n",
       "        [0, 0],\n",
       "        [0, 0],\n",
       "        [0, 0],\n",
       "        [0, 0],\n",
       "        [0, 0],\n",
       "        [0, 0],\n",
       "        [0, 0],\n",
       "        [0, 0]],\n",
       "\n",
       "       [[0, 0],\n",
       "        [0, 0],\n",
       "        [0, 0],\n",
       "        [0, 0],\n",
       "        [0, 0],\n",
       "        [0, 0],\n",
       "        [0, 0],\n",
       "        [0, 0],\n",
       "        [0, 0],\n",
       "        [0, 0]],\n",
       "\n",
       "       [[0, 0],\n",
       "        [0, 0],\n",
       "        [0, 0],\n",
       "        [0, 0],\n",
       "        [0, 0],\n",
       "        [0, 0],\n",
       "        [0, 0],\n",
       "        [0, 0],\n",
       "        [0, 0],\n",
       "        [0, 0]],\n",
       "\n",
       "       [[0, 0],\n",
       "        [0, 0],\n",
       "        [0, 0],\n",
       "        [0, 0],\n",
       "        [0, 0],\n",
       "        [0, 0],\n",
       "        [0, 0],\n",
       "        [0, 0],\n",
       "        [0, 0],\n",
       "        [0, 0]],\n",
       "\n",
       "       [[0, 0],\n",
       "        [0, 0],\n",
       "        [0, 0],\n",
       "        [0, 0],\n",
       "        [0, 0],\n",
       "        [0, 0],\n",
       "        [0, 0],\n",
       "        [0, 0],\n",
       "        [0, 0],\n",
       "        [0, 0]]])"
      ]
     },
     "execution_count": 29,
     "metadata": {},
     "output_type": "execute_result"
    }
   ],
   "source": [
    "# [row, column, [rabbits, foxes]]\n",
    "\n",
    "grid = np.zeros((ROWS, COLUMNS, 2), dtype=int)\n",
    "grid"
   ]
  },
  {
   "cell_type": "code",
   "execution_count": 30,
   "metadata": {},
   "outputs": [],
   "source": [
    "pygame.init()\n",
    "\n",
    "WINDOWS_SIZE = [500, 500]\n",
    "screen = pygame.display.set_mode(WINDOWS_SIZE)\n",
    "pygame.display.set_caption(\"Game of Life\")\n",
    "\n",
    "\n",
    "done = False\n",
    "\n",
    "clock = pygame.time.Clock()\n"
   ]
  },
  {
   "cell_type": "code",
   "execution_count": 31,
   "metadata": {},
   "outputs": [],
   "source": [
    "FONT_SIZE = 16\n",
    "\n",
    "font = pygame.font.Font(None, FONT_SIZE)"
   ]
  },
  {
   "cell_type": "code",
   "execution_count": 32,
   "metadata": {},
   "outputs": [
    {
     "name": "stdout",
     "output_type": "stream",
     "text": [
      "Click  (72, 59) Grid coordinates:  1 2\n",
      "Click  (203, 123) Grid coordinates:  3 5\n",
      "Click  (89, 250) Grid coordinates:  7 2\n",
      "Click  (248, 320) Grid coordinates:  9 7\n",
      "Click  (286, 184) Grid coordinates:  5 8\n",
      "Click  (132, 174) Grid coordinates:  4 3\n",
      "Click  (184, 226) Grid coordinates:  6 5\n",
      "Click  (136, 329) Grid coordinates:  9 3\n",
      "Click  (67, 187) Grid coordinates:  5 1\n",
      "Click  (313, 346) Grid coordinates:  9 8\n",
      "Click  (334, 340) Grid coordinates:  9 9\n",
      "Click  (332, 283) Grid coordinates:  8 9\n",
      "Click  (330, 240) Grid coordinates:  6 9\n",
      "Click  (330, 212) Grid coordinates:  6 9\n",
      "Click  (320, 165) Grid coordinates:  4 9\n"
     ]
    }
   ],
   "source": [
    "while not done:\n",
    "    for event in pygame.event.get():\n",
    "        if event.type == pygame.QUIT:\n",
    "            done = True\n",
    "        elif event.type == pygame.MOUSEBUTTONDOWN:\n",
    "            pos = pygame.mouse.get_pos()\n",
    "            if ( pos[0] >= WIDTH * COLUMNS + MARGIN * (COLUMNS) \n",
    "                or pos[1] >= HEIGHT * ROWS + MARGIN * (ROWS) ):\n",
    "                continue\n",
    "            column = pos[0] // (WIDTH + MARGIN)\n",
    "            row = pos[1] // (HEIGHT + MARGIN)\n",
    "            grid[row, column, 0] = 1\n",
    "            print(\"Click \", pos, \"Grid coordinates: \", row, column)\n",
    "\n",
    "    screen.fill(BLACK)\n",
    "\n",
    "    for row in range(ROWS):\n",
    "        for column in range(COLUMNS):\n",
    "            color = WHITE\n",
    "            if grid[row, column, 0] == 1:\n",
    "                color = GREEN\n",
    "            pygame.draw.rect(screen,\n",
    "                             color,\n",
    "                             [(MARGIN + WIDTH) * column + MARGIN,\n",
    "                              (MARGIN + HEIGHT) * row + MARGIN,\n",
    "                              WIDTH,\n",
    "                              HEIGHT])\n",
    "            \n",
    "            # render text onto a surface\n",
    "            text_rabbits = font.render(f\"C: {8}\", True, (0, 0, 0))\n",
    "            # blit the surface onto the screen\n",
    "            screen.blit(text_rabbits, [(MARGIN + WIDTH) * column \n",
    "                + MARGIN , (MARGIN + HEIGHT) \n",
    "                * row + MARGIN ])\n",
    "\n",
    "            text_foxes = font.render(f\"Z: {5}\", True, (0, 0, 0))\n",
    "            # blit the surface onto the screen\n",
    "            screen.blit(text_foxes, [(MARGIN + WIDTH) * column \n",
    "                + MARGIN , (MARGIN + HEIGHT) \n",
    "                * row + MARGIN + FONT_SIZE ])\n",
    "\n",
    "    # change color of the grid[0, 0] every two seconds\n",
    "    if pygame.time.get_ticks() % 4000 < 2000:\n",
    "        grid[0, 0, 0] = 0\n",
    "    else:\n",
    "        grid[0, 0, 0] = 1\n",
    "\n",
    "    clock.tick(60)\n",
    "\n",
    "    pygame.display.flip()\n",
    "\n",
    "pygame.quit()"
   ]
  }
 ],
 "metadata": {
  "kernelspec": {
   "display_name": "nbPygame",
   "language": "python",
   "name": "python3"
  },
  "language_info": {
   "codemirror_mode": {
    "name": "ipython",
    "version": 3
   },
   "file_extension": ".py",
   "mimetype": "text/x-python",
   "name": "python",
   "nbconvert_exporter": "python",
   "pygments_lexer": "ipython3",
   "version": "3.11.0"
  },
  "orig_nbformat": 4,
  "vscode": {
   "interpreter": {
    "hash": "134598a2cd3b23987ae1a29bd6b0d3e00644250c18b30d1150a3b7f4dbd30147"
   }
  }
 },
 "nbformat": 4,
 "nbformat_minor": 2
}
