{
 "cells": [
  {
   "cell_type": "code",
   "execution_count": 15,
   "metadata": {},
   "outputs": [
    {
     "name": "stdout",
     "output_type": "stream",
     "text": [
      "pygame 2.1.3.dev8 (SDL 2.26.2, Python 3.11.0)\n",
      "Hello from the pygame community. https://www.pygame.org/contribute.html\n"
     ]
    }
   ],
   "source": [
    "import nbimporter\n",
    "import rabbits_and_foxes as raf"
   ]
  },
  {
   "cell_type": "code",
   "execution_count": 16,
   "metadata": {},
   "outputs": [],
   "source": [
    "import numpy as np"
   ]
  },
  {
   "cell_type": "code",
   "execution_count": 23,
   "metadata": {},
   "outputs": [],
   "source": [
    "class Animal:\n",
    "\n",
    "    def __init__(self, register, _row, _col, _name, _strategy, \n",
    "        _preferred_direction = None, _clockwise = True,\n",
    "        _diagonal_prediction = False):\n",
    "        if _name == \"rabbit\" or _name == \"fox\":\n",
    "            self.name = _name\n",
    "        else:\n",
    "            raise ValueError(\"invalid animal name\")\n",
    "        \n",
    "        self.row = _row\n",
    "        self.col = _col\n",
    "        self.strategy = _strategy\n",
    "        self.preferred_direction = _preferred_direction\n",
    "        self.clockwise = _clockwise\n",
    "        self.diagonal_prediction = _diagonal_prediction\n",
    "    \n",
    "    def get_position(self):\n",
    "        return (self.row, self.col)\n",
    "    \n",
    "    def get_strategy(self):\n",
    "        return self.strategy\n",
    "\n",
    "    def move(self, foxes_map = None, rabbits_map = None):\n",
    "        if self.strategy == \"random\":\n",
    "            dir = raf.random_movement()\n",
    "\n",
    "        elif self.strategy == \"clockwise_escape\":\n",
    "            dir = raf.clockwise_escape(foxes_map,\n",
    "                self.preferred_direction, self.clockwise)\n",
    "\n",
    "        elif self.strategy == \"chasing_1\":\n",
    "            dir = raf.chasing_1(rabbits_map, self.preferred_direction,\n",
    "                self.clockwise, self.diagonal_prediction)\n",
    "        else:\n",
    "            raise ValueError(\"invalid strategy\")\n",
    "\n",
    "        # 0 1 2\n",
    "        # 7   3\n",
    "        # 6 5 4\n",
    "\n",
    "        if (dir < 0) or (dir > 7):\n",
    "            raise ValueError(\"Animal.move(): invalid direction\")\n",
    "\n",
    "        if dir == 0:\n",
    "            self.row -= 1\n",
    "            self.col -= 1\n",
    "        elif dir == 1:\n",
    "            self.row -= 1\n",
    "        elif dir == 2:\n",
    "            self.row -= 1\n",
    "            self.col += 1\n",
    "        elif dir == 3:\n",
    "            self.col += 1\n",
    "        elif dir == 4:\n",
    "            self.row += 1\n",
    "            self.col += 1\n",
    "        elif dir == 5:\n",
    "            self.row += 1\n",
    "        elif dir == 6:\n",
    "            self.row += 1\n",
    "            self.col -= 1\n",
    "        elif dir == 7:\n",
    "            self.col -= 1 \n",
    "\n",
    "        \n"
   ]
  },
  {
   "cell_type": "code",
   "execution_count": 14,
   "metadata": {},
   "outputs": [
    {
     "data": {
      "text/plain": [
       "'random'"
      ]
     },
     "execution_count": 14,
     "metadata": {},
     "output_type": "execute_result"
    }
   ],
   "source": [
    "cat = Animal(3, 2, \"rabbit\", \"random\")\n",
    "cat.get_strategy()"
   ]
  }
 ],
 "metadata": {
  "kernelspec": {
   "display_name": "nbPygame",
   "language": "python",
   "name": "python3"
  },
  "language_info": {
   "codemirror_mode": {
    "name": "ipython",
    "version": 3
   },
   "file_extension": ".py",
   "mimetype": "text/x-python",
   "name": "python",
   "nbconvert_exporter": "python",
   "pygments_lexer": "ipython3",
   "version": "3.11.0"
  },
  "orig_nbformat": 4,
  "vscode": {
   "interpreter": {
    "hash": "134598a2cd3b23987ae1a29bd6b0d3e00644250c18b30d1150a3b7f4dbd30147"
   }
  }
 },
 "nbformat": 4,
 "nbformat_minor": 2
}
