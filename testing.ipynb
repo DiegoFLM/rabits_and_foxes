{
 "cells": [
  {
   "cell_type": "code",
   "execution_count": 1,
   "metadata": {},
   "outputs": [],
   "source": [
    "import nbimporter\n",
    "import classes as cl"
   ]
  },
  {
   "cell_type": "code",
   "execution_count": 2,
   "metadata": {},
   "outputs": [],
   "source": [
    "import numpy as np"
   ]
  },
  {
   "cell_type": "code",
   "execution_count": 3,
   "metadata": {},
   "outputs": [],
   "source": [
    "tests = {}"
   ]
  },
  {
   "attachments": {},
   "cell_type": "markdown",
   "metadata": {},
   "source": [
    "# Strategies"
   ]
  },
  {
   "attachments": {},
   "cell_type": "markdown",
   "metadata": {},
   "source": [
    "## clockwise_escape()"
   ]
  },
  {
   "cell_type": "code",
   "execution_count": 4,
   "metadata": {},
   "outputs": [
    {
     "name": "stdout",
     "output_type": "stream",
     "text": [
      "Failed tests: \n",
      "[]\n"
     ]
    }
   ],
   "source": [
    "# 0 1 2\n",
    "# 7   3\n",
    "# 6 5 4\n",
    "foxes_around = [0, 0, 1, 1, 3, 1, 0, 0]\n",
    "tests[\"clockwise_escape_0\"] = ( raf.\n",
    "    clockwise_escape(foxes_around , 7, False) == 7 )\n",
    "\n",
    "foxes_around = [0, 0, 1, 1, 3, 1, 0, 0]\n",
    "tests[\"clockwise_escape_1\"] = ( raf.\n",
    "    clockwise_escape(foxes_around , 5, False) == 0 )\n",
    "\n",
    "foxes_around = [10, 0, 1, 1, 3, 1, 0, 2]\n",
    "tests[\"clockwise_escape_2\"] = ( raf.\n",
    "    clockwise_escape(foxes_around , 5, False) == 1 )\n",
    "\n",
    "foxes_around = [10, 0, 1, 1, 3, 1, 0, 2]\n",
    "tests[\"clockwise_escape_2\"] = ( raf.\n",
    "    clockwise_escape(foxes_around , 5, False) == 1 )\n",
    "\n",
    "false_keys = filter(lambda items: not items[1], tests.items())\n",
    "print(\"Failed tests: \")\n",
    "print([key for key, value in false_keys])"
   ]
  },
  {
   "attachments": {},
   "cell_type": "markdown",
   "metadata": {},
   "source": [
    "## chasing_1()"
   ]
  },
  {
   "cell_type": "code",
   "execution_count": 5,
   "metadata": {},
   "outputs": [],
   "source": [
    "# 0 1 2\n",
    "# 7   3\n",
    "# 6 5 4\n",
    "rabbits_around = [0, 0, 2, 0, 0, 0, 0, 1]\n",
    "chasing_1_1 = raf.chasing_1(rabbits_around, 0, True, False) == 3\n",
    "tests[\"chasing_1_0\"] = chasing_1_1\n",
    "\n",
    "rabbits_around = [0, 0, 2, 0, 0, 0, 0, 1]\n",
    "chasing_1_2 = raf.chasing_1(rabbits_around, 2, True, True) == 3\n",
    "tests[\"chasing_1_1\"] = chasing_1_2\n",
    "\n",
    "rabbits_around = [0, 0, 0, 1, 0, 0, 0, 3]\n",
    "chasing_1_3 = raf.chasing_1(rabbits_around, 5, False, True) == 5\n",
    "tests[\"chasing_1_2\"] = chasing_1_3"
   ]
  },
  {
   "cell_type": "code",
   "execution_count": 6,
   "metadata": {},
   "outputs": [
    {
     "name": "stdout",
     "output_type": "stream",
     "text": [
      "clockwise_escape_0: True\n",
      "clockwise_escape_1: True\n",
      "clockwise_escape_2: True\n",
      "chasing_1_0: True\n",
      "chasing_1_1: True\n",
      "chasing_1_2: True\n"
     ]
    }
   ],
   "source": [
    "for key, value in tests.items():\n",
    "    print(f\"{key}: {value}\")"
   ]
  },
  {
   "attachments": {},
   "cell_type": "markdown",
   "metadata": {},
   "source": [
    "# Grid"
   ]
  },
  {
   "cell_type": "code",
   "execution_count": 7,
   "metadata": {},
   "outputs": [
    {
     "data": {
      "text/plain": [
       "array([[[0, 0],\n",
       "        [0, 0],\n",
       "        [0, 0],\n",
       "        [7, 8]],\n",
       "\n",
       "       [[0, 0],\n",
       "        [0, 0],\n",
       "        [5, 6],\n",
       "        [0, 0]],\n",
       "\n",
       "       [[0, 0],\n",
       "        [0, 0],\n",
       "        [0, 0],\n",
       "        [0, 0]]])"
      ]
     },
     "execution_count": 7,
     "metadata": {},
     "output_type": "execute_result"
    }
   ],
   "source": [
    "# [row, column, [rabbits, foxes]]\n",
    "height = 3\n",
    "width = 4\n",
    "\n",
    "grid = np.zeros((height, width, 2), dtype=int)\n",
    "\n",
    "# in grid[1,2]\n",
    "rabbits = 5\n",
    "foxes = 6\n",
    "\n",
    "grid[1, 2, 0] = rabbits\n",
    "grid[1, 2, 1] = foxes\n",
    "\n",
    "# in grid[0,3]\n",
    "rabbits = 7\n",
    "foxes = 8\n",
    "grid[0, 3, 0] = rabbits\n",
    "grid[0, 3, 1] = foxes\n",
    "\n",
    "grid"
   ]
  },
  {
   "attachments": {},
   "cell_type": "markdown",
   "metadata": {},
   "source": [
    "## valid_position()"
   ]
  },
  {
   "cell_type": "code",
   "execution_count": 8,
   "metadata": {},
   "outputs": [
    {
     "name": "stdout",
     "output_type": "stream",
     "text": [
      "Failed tests: \n",
      "[]\n"
     ]
    }
   ],
   "source": [
    "height = 3\n",
    "width = 5\n",
    "grid = np.zeros((height, width, 2), dtype=int)\n",
    "\n",
    "raf.valid_position(0, 4, grid.shape)\n",
    "tests[\"valid_postion_0\"] = raf.valid_position(0, 4, grid.shape) == (0, 4)\n",
    "tests[\"valid_postion_1\"] = raf.valid_position(0, 5, grid.shape) == (0, 0)\n",
    "tests[\"valid_postion_2\"] = raf.valid_position(0, -1, grid.shape) == (0, 4)\n",
    "\n",
    "tests[\"valid_postion_3\"] = raf.valid_position(2, 0, grid.shape) == (2, 0)\n",
    "tests[\"valid_postion_4\"] = raf.valid_position(3, 0, grid.shape) == (0, 0)\n",
    "tests[\"valid_postion_5\"] = raf.valid_position(-1, 0, grid.shape) == (2, 0)\n",
    "\n",
    "tests[\"valid_postion_6\"] = raf.valid_position(2, 4, grid.shape) == (2, 4)\n",
    "tests[\"valid_postion_7\"] = raf.valid_position(3, 5, grid.shape) == (0, 0)\n",
    "tests[\"valid_postion_8\"] = raf.valid_position(-1, -1, grid.shape) == (2, 4)\n",
    "\n",
    "false_keys = filter(lambda items: not items[1], tests.items())\n",
    "print(\"Failed tests: \")\n",
    "print([key for key, value in false_keys])\n"
   ]
  },
  {
   "attachments": {},
   "cell_type": "markdown",
   "metadata": {},
   "source": [
    "## get_animals_around()"
   ]
  },
  {
   "cell_type": "code",
   "execution_count": 9,
   "metadata": {},
   "outputs": [
    {
     "data": {
      "text/plain": [
       "array([[[ 0,  1],\n",
       "        [ 2,  3],\n",
       "        [ 4,  5],\n",
       "        [ 6,  7]],\n",
       "\n",
       "       [[ 8,  9],\n",
       "        [10, 11],\n",
       "        [12, 13],\n",
       "        [14, 15]],\n",
       "\n",
       "       [[16, 17],\n",
       "        [18, 19],\n",
       "        [20, 21],\n",
       "        [22, 23]]])"
      ]
     },
     "execution_count": 9,
     "metadata": {},
     "output_type": "execute_result"
    }
   ],
   "source": [
    "# [row, column, [rabbits, foxes]]\n",
    "height = 3\n",
    "width = 4\n",
    "\n",
    "grid = np.zeros((height, width, 2), dtype=int)\n",
    "\n",
    "c = 0\n",
    "for row in range(height):\n",
    "    for col in range(width):\n",
    "        grid[row, col, 0] = c\n",
    "        grid[row, col, 1] = c + 1\n",
    "        c += 2\n",
    "grid"
   ]
  },
  {
   "cell_type": "code",
   "execution_count": 10,
   "metadata": {},
   "outputs": [
    {
     "name": "stdout",
     "output_type": "stream",
     "text": [
      "Failed tests: \n",
      "[]\n"
     ]
    }
   ],
   "source": [
    "# height = 3\n",
    "# width = 4\n",
    "\n",
    "# 0 1 2\n",
    "# 7   3\n",
    "# 6 5 4\n",
    "\n",
    "# 0  2  4  6\n",
    "# 8  10 12 14\n",
    "# 16 18 20 22\n",
    "\n",
    "\n",
    "tests[\"get_animals_around_0\"] = (raf.get_animals_around(\n",
    "    grid, 2, 3, \"rabbits\") == [12, 14, 8, 16, 0, 6, 4, 20] ).all()\n",
    "\n",
    "tests[\"get_animals_around_1\"] = (raf.get_animals_around(\n",
    "    grid, 2, 3, \"foxes\") == [13, 15, 9, 17, 1, 7, 5, 21] ).all()\n",
    "\n",
    "false_keys = filter(lambda items: not items[1], tests.items())\n",
    "print(\"Failed tests: \")\n",
    "print([key for key, value in false_keys])\n",
    "# tests\n"
   ]
  },
  {
   "attachments": {},
   "cell_type": "markdown",
   "metadata": {},
   "source": [
    "# Classes"
   ]
  },
  {
   "attachments": {},
   "cell_type": "markdown",
   "metadata": {},
   "source": [
    "## Map"
   ]
  },
  {
   "cell_type": "code",
   "execution_count": 4,
   "metadata": {},
   "outputs": [
    {
     "data": {
      "text/plain": [
       "array([[[0, 0],\n",
       "        [2, 0],\n",
       "        [3, 0]],\n",
       "\n",
       "       [[0, 0],\n",
       "        [1, 0],\n",
       "        [1, 0]],\n",
       "\n",
       "       [[0, 0],\n",
       "        [2, 0],\n",
       "        [1, 0]]])"
      ]
     },
     "execution_count": 4,
     "metadata": {},
     "output_type": "execute_result"
    }
   ],
   "source": [
    "m1 = cl.Map(3, 3)\n",
    "m1.populate(10, \"rabbit\", \"random\")\n",
    "m1.get_population_map()\n"
   ]
  },
  {
   "cell_type": "code",
   "execution_count": null,
   "metadata": {},
   "outputs": [],
   "source": [
    "m1 = cl.Map(3, 3)\n",
    "m1.populate(10, \"rabbit\", \"random\")\n",
    "m1.reproduction(\"rabbit\")\n",
    "m1.get_population_map()"
   ]
  },
  {
   "cell_type": "code",
   "execution_count": 5,
   "metadata": {},
   "outputs": [
    {
     "name": "stdout",
     "output_type": "stream",
     "text": [
      "Failed tests: \n",
      "[]\n"
     ]
    }
   ],
   "source": [
    "false_keys = filter(lambda items: not items[1], tests.items())\n",
    "print(\"Failed tests: \")\n",
    "print([key for key, value in false_keys])"
   ]
  }
 ],
 "metadata": {
  "kernelspec": {
   "display_name": "nbPygame",
   "language": "python",
   "name": "python3"
  },
  "language_info": {
   "codemirror_mode": {
    "name": "ipython",
    "version": 3
   },
   "file_extension": ".py",
   "mimetype": "text/x-python",
   "name": "python",
   "nbconvert_exporter": "python",
   "pygments_lexer": "ipython3",
   "version": "3.11.0 | packaged by conda-forge | (main, Oct 25 2022, 06:24:40) [GCC 10.4.0]"
  },
  "orig_nbformat": 4,
  "vscode": {
   "interpreter": {
    "hash": "134598a2cd3b23987ae1a29bd6b0d3e00644250c18b30d1150a3b7f4dbd30147"
   }
  }
 },
 "nbformat": 4,
 "nbformat_minor": 2
}
