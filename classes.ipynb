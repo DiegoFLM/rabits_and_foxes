{
 "cells": [
  {
   "cell_type": "code",
   "execution_count": 1,
   "metadata": {},
   "outputs": [],
   "source": [
    "import numpy as np\n",
    "import time\n",
    "import copy"
   ]
  },
  {
   "attachments": {},
   "cell_type": "markdown",
   "metadata": {},
   "source": [
    "# Auxiliar Functions"
   ]
  },
  {
   "attachments": {},
   "cell_type": "markdown",
   "metadata": {},
   "source": [
    "## get_neighbors()"
   ]
  },
  {
   "cell_type": "code",
   "execution_count": 2,
   "metadata": {},
   "outputs": [],
   "source": [
    "def get_neighbors(index, clockwise):\n",
    "    neighbors = []\n",
    "    if clockwise:\n",
    "        neighbors.append((index - 1) % 8)\n",
    "        neighbors.append((index + 1) % 8)\n",
    "    else:\n",
    "        neighbors.append((index + 1) % 8)\n",
    "        neighbors.append((index - 1) % 8)\n",
    "    return neighbors"
   ]
  },
  {
   "attachments": {},
   "cell_type": "markdown",
   "metadata": {},
   "source": [
    "## is_corner()"
   ]
  },
  {
   "cell_type": "code",
   "execution_count": 3,
   "metadata": {},
   "outputs": [],
   "source": [
    "def is_corner(dir):\n",
    "    switch = {\n",
    "        0: True,\n",
    "        1: False,\n",
    "        2: True,\n",
    "        3: False,\n",
    "        4: True,\n",
    "        5: False,\n",
    "        6: True,\n",
    "        7: False\n",
    "    }\n",
    "    return switch.get(dir, False)"
   ]
  },
  {
   "cell_type": "code",
   "execution_count": 4,
   "metadata": {},
   "outputs": [
    {
     "name": "stdout",
     "output_type": "stream",
     "text": [
      "Corner\n"
     ]
    }
   ],
   "source": [
    "if (is_corner(0)):\n",
    "    print(\"Corner\")\n",
    "else:\n",
    "    print(\"Not a corner\")"
   ]
  },
  {
   "attachments": {},
   "cell_type": "markdown",
   "metadata": {},
   "source": [
    "## valid_position()"
   ]
  },
  {
   "cell_type": "code",
   "execution_count": 5,
   "metadata": {},
   "outputs": [],
   "source": [
    "def valid_position(row, col, shape):\n",
    "    height, width, aux = shape\n",
    "    if row == -1:\n",
    "        row = height - 1\n",
    "    elif row == height:\n",
    "        row = 0\n",
    "\n",
    "    if col == -1:\n",
    "        col = width - 1\n",
    "    elif col == width:\n",
    "        col = 0\n",
    "    \n",
    "    return row, col"
   ]
  },
  {
   "attachments": {},
   "cell_type": "markdown",
   "metadata": {},
   "source": [
    "## get_animals_around()"
   ]
  },
  {
   "cell_type": "code",
   "execution_count": 6,
   "metadata": {},
   "outputs": [],
   "source": [
    "# [row, column, [rabbits, foxes]]\n",
    "\n",
    "# 0 1 2\n",
    "# 7   3\n",
    "# 6 5 4\n",
    "\n",
    "def get_animals_around(grid, row, col, animal):\n",
    "\n",
    "    if animal == \"rabbit\":\n",
    "        animal_index = 0\n",
    "    elif animal == \"fox\":\n",
    "        animal_index = 1\n",
    "\n",
    "    height, width = grid.shape[:2]\n",
    "    if valid_position(row, col, grid.shape) != (row, col):\n",
    "        print(\"Invalid position: ({}, {})\".format(row, col))\n",
    "        return None\n",
    "\n",
    "    map = np.zeros(8, dtype=int)\n",
    "    \n",
    "    for i in range(3):\n",
    "        valid_row, valid_col = valid_position(row - 1, col - 1 + i, grid.shape)\n",
    "        map[i] = grid[valid_row, valid_col, animal_index]\n",
    "      \n",
    "    valid_row, valid_col = valid_position(row, col + 1, grid.shape)\n",
    "    map[3] = grid[valid_row, valid_col, animal_index]    \n",
    "\n",
    "    for i in range(3):\n",
    "        valid_row, valid_col = valid_position(row + 1, col + 1 - i, grid.shape)\n",
    "        map[4 + i] = grid[valid_row, valid_col, animal_index]    \n",
    "    \n",
    "    valid_row, valid_col = valid_position(row, col - 1, grid.shape)\n",
    "    map[7] = grid[valid_row, valid_col, animal_index]\n",
    "\n",
    "    return map"
   ]
  },
  {
   "attachments": {},
   "cell_type": "markdown",
   "metadata": {},
   "source": [
    "## Grids"
   ]
  },
  {
   "cell_type": "code",
   "execution_count": 7,
   "metadata": {},
   "outputs": [
    {
     "data": {
      "text/plain": [
       "array([[[ 0,  1],\n",
       "        [ 2,  3],\n",
       "        [ 4,  5],\n",
       "        [ 6,  7]],\n",
       "\n",
       "       [[ 8,  9],\n",
       "        [10, 11],\n",
       "        [12, 13],\n",
       "        [14, 15]],\n",
       "\n",
       "       [[16, 17],\n",
       "        [18, 19],\n",
       "        [20, 21],\n",
       "        [22, 23]]])"
      ]
     },
     "execution_count": 7,
     "metadata": {},
     "output_type": "execute_result"
    }
   ],
   "source": [
    "# [row, column, [rabbits, foxes]]\n",
    "height = 3\n",
    "width = 4\n",
    "\n",
    "grid = np.zeros((height, width, 2), dtype=int)\n",
    "\n",
    "c = 0\n",
    "for row in range(height):\n",
    "    for col in range(width):\n",
    "        grid[row, col, 0] = c\n",
    "        grid[row, col, 1] = c + 1\n",
    "        c += 2\n",
    "grid"
   ]
  },
  {
   "cell_type": "code",
   "execution_count": 8,
   "metadata": {},
   "outputs": [
    {
     "data": {
      "text/plain": [
       "array([12, 14,  8, 16,  0,  6,  4, 20])"
      ]
     },
     "execution_count": 8,
     "metadata": {},
     "output_type": "execute_result"
    }
   ],
   "source": [
    "# height = 3\n",
    "# width = 4\n",
    "\n",
    "# 0 1 2\n",
    "# 7   3\n",
    "# 6 5 4\n",
    "\n",
    "# 0  2  4  6\n",
    "# 8  10 12 14\n",
    "# 16 18 20 22\n",
    "\n",
    "\n",
    "get_animals_around(grid, 2, 3, \"rabbit\")"
   ]
  },
  {
   "cell_type": "code",
   "execution_count": 9,
   "metadata": {},
   "outputs": [
    {
     "data": {
      "text/plain": [
       "array([[[ 0,  1],\n",
       "        [ 2,  3],\n",
       "        [ 4,  5],\n",
       "        [ 6,  7]],\n",
       "\n",
       "       [[ 8,  9],\n",
       "        [10, 11],\n",
       "        [12, 13],\n",
       "        [14, 15]],\n",
       "\n",
       "       [[16, 17],\n",
       "        [18, 19],\n",
       "        [20, 21],\n",
       "        [22, 23]]])"
      ]
     },
     "execution_count": 9,
     "metadata": {},
     "output_type": "execute_result"
    }
   ],
   "source": [
    "# [row, column, [rabbits, foxes]]\n",
    "height = 3\n",
    "width = 4\n",
    "\n",
    "# Create a map. Each cell is a tuple (rabbits, foxes)\n",
    "# rabbits are represented by even numbers\n",
    "# foxes are represented by odd numbers\n",
    "grid = np.zeros((height, width, 2), dtype=int)\n",
    "\n",
    "c = 0\n",
    "for row in range(height):\n",
    "    for col in range(width):\n",
    "        grid[row, col, 0] = c\n",
    "        grid[row, col, 1] = c + 1\n",
    "        c += 2\n",
    "grid"
   ]
  },
  {
   "cell_type": "code",
   "execution_count": 10,
   "metadata": {},
   "outputs": [
    {
     "data": {
      "text/plain": [
       "array([[[1, 2],\n",
       "        [3, 0]],\n",
       "\n",
       "       [[2, 1],\n",
       "        [0, 3]],\n",
       "\n",
       "       [[3, 3],\n",
       "        [3, 5]]])"
      ]
     },
     "execution_count": 10,
     "metadata": {},
     "output_type": "execute_result"
    }
   ],
   "source": [
    "# [row, column, [rabbits, foxes]]\n",
    "width = 2\n",
    "height = 3\n",
    "\n",
    "grid = np.zeros((height, width, 2), dtype=int)\n",
    "\n",
    "grid[0,0,0] = 1\n",
    "grid[0,0,1] = 2\n",
    "\n",
    "grid[0,1,0] = 3\n",
    "grid[0,1,1] = 0\n",
    "\n",
    "grid[1,0,0] = 2\n",
    "grid[1,0,1] = 1\n",
    "\n",
    "grid[1,1,0] = 0\n",
    "grid[1,1,1] = 3\n",
    "\n",
    "grid[2,0,0] = 3\n",
    "grid[2,0,1] = 3\n",
    "\n",
    "grid[2,1,0] = 3\n",
    "grid[2,1,1] = 5\n",
    "\n",
    "grid "
   ]
  },
  {
   "cell_type": "code",
   "execution_count": 11,
   "metadata": {},
   "outputs": [
    {
     "data": {
      "text/plain": [
       "array([[[1, 2],\n",
       "        [3, 0]],\n",
       "\n",
       "       [[2, 1],\n",
       "        [0, 3]],\n",
       "\n",
       "       [[3, 3],\n",
       "        [3, 5]]])"
      ]
     },
     "execution_count": 11,
     "metadata": {},
     "output_type": "execute_result"
    }
   ],
   "source": [
    "np.array(\n",
    "    [[[1,2], [3,0]],\n",
    "    [[2,1], [0,3]],\n",
    "    [[3,3], [3,5]]] )"
   ]
  },
  {
   "attachments": {},
   "cell_type": "markdown",
   "metadata": {},
   "source": [
    "# Classes"
   ]
  },
  {
   "attachments": {},
   "cell_type": "markdown",
   "metadata": {},
   "source": [
    "## class Strategy"
   ]
  },
  {
   "cell_type": "code",
   "execution_count": 12,
   "metadata": {},
   "outputs": [],
   "source": [
    "class Strategy:\n",
    "\n",
    "    # This method receives an array\n",
    "    # of length 8, the amount of foxes around \n",
    "    # and returns the next state.\n",
    "    # The current state (f) is an array of eight integers, \n",
    "    # f[i] := amount of foxes in the i-th direction\n",
    "    # state index, same as directions:\n",
    "    # 0 1 2\n",
    "    # 7   3\n",
    "    # 6 5 4\n",
    "    @staticmethod\n",
    "    def clockwise_escape(f, preferred_direction, clockwise):\n",
    "        neighbors = get_neighbors(preferred_direction, clockwise)\n",
    "        if not ( f[preferred_direction] \n",
    "                or f[neighbors[0]] \n",
    "                or f[neighbors[1]] ):\n",
    "            return preferred_direction # safe from visible foxes\n",
    "\n",
    "        current_direction = preferred_direction\n",
    "        evaluated_safer_directions = 1\n",
    "        while evaluated_safer_directions < 8:\n",
    "            if clockwise:\n",
    "                current_direction = (current_direction + 1) % 8\n",
    "            else:\n",
    "                current_direction = (current_direction - 1) % 8\n",
    "\n",
    "            neighbors = get_neighbors(current_direction, clockwise)\n",
    "            if not ( f[current_direction] \n",
    "                    or f[neighbors[0]] \n",
    "                    or f[neighbors[1]] ):\n",
    "                return current_direction # safe from visible foxes\n",
    "            evaluated_safer_directions += 1\n",
    "\n",
    "        if not (f[preferred_direction]):\n",
    "            return preferred_direction\n",
    "\n",
    "        evaluated_unsafe_directions = 1\n",
    "        while evaluated_unsafe_directions < 8:\n",
    "            if clockwise:\n",
    "                current_direction = (current_direction + 1) % 8\n",
    "            else:\n",
    "                current_direction = (current_direction - 1) % 8\n",
    "\n",
    "            if not (f[current_direction]):\n",
    "                return current_direction\n",
    "            evaluated_unsafe_directions += 1\n",
    "        \n",
    "        return np.argmin(f)\n",
    "\n",
    "\n",
    "    # This function receives the current state (r) of \n",
    "    # the system and returns the next state.\n",
    "    # The current state (r) is an array of eight integers, \n",
    "    # r[i] := amount of rabbits in the i-th direction\n",
    "    # state index, same as directions:\n",
    "    # 0 1 2\n",
    "    # 7   3\n",
    "    # 6 5 4\n",
    "\n",
    "    @staticmethod\n",
    "    def chasing_1(r, preferred_direction, clockwise, diagonal_prediction):\n",
    "        if not( np.any(r) ):\n",
    "            return preferred_direction\n",
    "        best_direction = np.argmax(r)\n",
    "        neighbors = get_neighbors(best_direction, clockwise)\n",
    "        if is_corner( best_direction ) or not( diagonal_prediction ):\n",
    "            return neighbors[1]\n",
    "        else:\n",
    "            return get_neighbors(neighbors[1], clockwise)[1]"
   ]
  },
  {
   "cell_type": "code",
   "execution_count": 13,
   "metadata": {},
   "outputs": [
    {
     "data": {
      "text/plain": [
       "1"
      ]
     },
     "execution_count": 13,
     "metadata": {},
     "output_type": "execute_result"
    }
   ],
   "source": [
    "Strategy.clockwise_escape([10, 0, 1, 1, 3, 1, 0, 2], 5, False)"
   ]
  },
  {
   "cell_type": "code",
   "execution_count": 14,
   "metadata": {},
   "outputs": [
    {
     "data": {
      "text/plain": [
       "3"
      ]
     },
     "execution_count": 14,
     "metadata": {},
     "output_type": "execute_result"
    }
   ],
   "source": [
    "# 0 1 2\n",
    "# 7   3\n",
    "# 6 5 4\n",
    "r = [0, 0, 2, 0, 0, 0, 0, 1]\n",
    "\n",
    "Strategy.chasing_1(r, 0, True, False)"
   ]
  },
  {
   "cell_type": "code",
   "execution_count": 15,
   "metadata": {},
   "outputs": [
    {
     "data": {
      "text/plain": [
       "5"
      ]
     },
     "execution_count": 15,
     "metadata": {},
     "output_type": "execute_result"
    }
   ],
   "source": [
    "rabbit_amounts = [0, 0, 1, 3, 4, 1, 0, 0]\n",
    "Strategy.chasing_1(rabbit_amounts, 2, clockwise = True, diagonal_prediction = True)"
   ]
  },
  {
   "attachments": {},
   "cell_type": "markdown",
   "metadata": {},
   "source": [
    "## class Animal"
   ]
  },
  {
   "cell_type": "code",
   "execution_count": 16,
   "metadata": {},
   "outputs": [],
   "source": [
    "class Animal:\n",
    "\n",
    "    def __init__(self, _row, _col, _species, _strategy, \n",
    "        _preferred_direction = None, _clockwise = True,\n",
    "        _diagonal_prediction = False):\n",
    "\n",
    "        if _species == \"rabbit\" or _species == \"fox\":\n",
    "            self.species = _species\n",
    "        else:\n",
    "            raise ValueError(\"invalid animal species\")\n",
    "        \n",
    "        self.row = _row\n",
    "        self.col = _col\n",
    "        self.strategy = _strategy\n",
    "        self.preferred_direction = _preferred_direction\n",
    "        self.clockwise = _clockwise\n",
    "        self.diagonal_prediction = _diagonal_prediction\n",
    "\n",
    "        if _species == \"rabbit\":\n",
    "            self.animal_index = 0\n",
    "        elif _species == \"fox\":\n",
    "            self.animal_index = 1\n",
    "\n",
    "\n",
    "    def get_position(self):\n",
    "        return (self.row, self.col)\n",
    "    \n",
    "\n",
    "    def get_strategy(self):\n",
    "        return self.strategy\n",
    "\n",
    "\n",
    "    def move(self, shape, rabbits_around = None, foxes_around = None):\n",
    "        if self.strategy == \"random\":\n",
    "            dir =  np.random.randint(0, 8)\n",
    "\n",
    "\n",
    "        elif self.strategy == \"clockwise_escape\":\n",
    "            dir = Strategy.clockwise_escape(foxes_around,\n",
    "                self.preferred_direction, self.clockwise)\n",
    "\n",
    "\n",
    "        elif self.strategy == \"chasing_1\":\n",
    "            dir = Strategy.chasing_1(rabbits_around, self.preferred_direction,\n",
    "                self.clockwise, self.diagonal_prediction)\n",
    "        else:\n",
    "            raise ValueError(\"invalid strategy\")\n",
    "\n",
    "        # 0 1 2\n",
    "        # 7   3\n",
    "        # 6 5 4\n",
    "\n",
    "        if (dir < 0) or (dir > 7):\n",
    "            raise ValueError(\"Animal.move(): invalid direction\")\n",
    "\n",
    "        if dir == 0:\n",
    "            self.row -= 1\n",
    "            self.col -= 1\n",
    "        elif dir == 1:\n",
    "            self.row -= 1\n",
    "        elif dir == 2:\n",
    "            self.row -= 1\n",
    "            self.col += 1\n",
    "        elif dir == 3:\n",
    "            self.col += 1\n",
    "        elif dir == 4:\n",
    "            self.row += 1\n",
    "            self.col += 1\n",
    "        elif dir == 5:\n",
    "            self.row += 1\n",
    "        elif dir == 6:\n",
    "            self.row += 1\n",
    "            self.col -= 1\n",
    "        elif dir == 7:\n",
    "            self.col -= 1 \n",
    "\n",
    "        self.row, self.col = valid_position(self.row, self.col, shape)\n",
    "    \n",
    "\n",
    "    def reproduce(self):\n",
    "        return Animal(self.row, self.col, self.species, self.strategy,\n",
    "            self.preferred_direction, self.clockwise, self.diagonal_prediction)\n"
   ]
  },
  {
   "cell_type": "code",
   "execution_count": 17,
   "metadata": {},
   "outputs": [],
   "source": [
    "\n",
    "rabbit_1 = Animal(1, 3, \"rabbit\", \"random\")"
   ]
  },
  {
   "cell_type": "code",
   "execution_count": 18,
   "metadata": {},
   "outputs": [
    {
     "data": {
      "text/plain": [
       "'rabbit'"
      ]
     },
     "execution_count": 18,
     "metadata": {},
     "output_type": "execute_result"
    }
   ],
   "source": [
    "rabbit_1.species"
   ]
  },
  {
   "cell_type": "code",
   "execution_count": 19,
   "metadata": {},
   "outputs": [
    {
     "data": {
      "text/plain": [
       "(1, 3)"
      ]
     },
     "execution_count": 19,
     "metadata": {},
     "output_type": "execute_result"
    }
   ],
   "source": [
    "rabbit_1.get_position()\n"
   ]
  },
  {
   "cell_type": "code",
   "execution_count": 20,
   "metadata": {},
   "outputs": [
    {
     "data": {
      "text/plain": [
       "'rabbit'"
      ]
     },
     "execution_count": 20,
     "metadata": {},
     "output_type": "execute_result"
    }
   ],
   "source": [
    "rabbit_2 = rabbit_1.reproduce()\n",
    "rabbit_2.species"
   ]
  },
  {
   "attachments": {},
   "cell_type": "markdown",
   "metadata": {},
   "source": [
    "## class Map"
   ]
  },
  {
   "cell_type": "code",
   "execution_count": 21,
   "metadata": {},
   "outputs": [],
   "source": [
    "class Map:\n",
    "\n",
    "    def __init__(self, _rows, _cols):\n",
    "        self.species_list = [\"rabbit\", \"fox\"]\n",
    "        self.rows = _rows\n",
    "        self.cols = _cols\n",
    "        self.population_map = np.zeros(\n",
    "            (self.rows, self.cols, len(self.species_list) ), dtype = int)\n",
    "\n",
    "        self.objects_map = [[[[], []] for i in range(self.cols)] for j in range(self.rows)]\n",
    "        self.hunt_log_map = np.zeros((self.rows, self.cols), dtype = int)\n",
    "\n",
    "\n",
    "    def get_population_map(self):\n",
    "        return self.make_population_map()\n",
    "\n",
    "\n",
    "    def get_objects_map(self):\n",
    "        return self.objects_map\n",
    "\n",
    "\n",
    "    def set_population_map(self, _population_map):\n",
    "        self.population_map = _population_map\n",
    "\n",
    "\n",
    "    def set_objects_map(self, _objects_map):\n",
    "        self.objects_map = _objects_map\n",
    "\n",
    "\n",
    "    def populate(self, amount, species, strategy, \n",
    "        preferred_direction = None, clockwise = True,\n",
    "        diagonal_prediction = False):\n",
    "\n",
    "        self.hunt_log_map = np.zeros((self.rows, self.cols), dtype = int)\n",
    "\n",
    "        if not (species == \"rabbit\" or species == \"fox\"):\n",
    "            raise ValueError(\"invalid animal species\")\n",
    "\n",
    "        if species == \"rabbit\":\n",
    "            species_index = 0\n",
    "        elif species == \"fox\":\n",
    "            species_index = 1\n",
    "\n",
    "        for i in range (amount):\n",
    "            row = np.random.randint(0, self.rows)\n",
    "            col = np.random.randint(0, self.cols)\n",
    "            self.objects_map[row][col][species_index].append(Animal(\n",
    "                row, col, species, strategy, preferred_direction, \n",
    "                clockwise, diagonal_prediction))\n",
    "        self.make_population_map()\n",
    "\n",
    "    def move_animals(self):\n",
    "        self.make_population_map()\n",
    "        \n",
    "        for i in range(self.rows):\n",
    "            for j in range(self.cols):\n",
    "                for species_index in range( len(self.species_list) ):\n",
    "                    for animal in self.objects_map[i][j][species_index]:\n",
    "                        rabbits_around = None\n",
    "                        foxes_around = None\n",
    "                        if animal.species == \"rabbit\":\n",
    "                            if species_index != 0:\n",
    "                                raise ValueError(\"invalid animal index\")\n",
    "                            foxes_around = get_animals_around(self.population_map, \n",
    "                                i, j, \"fox\" )\n",
    "                        elif (animal.species == \"fox\"):\n",
    "                            if species_index != 1:\n",
    "                                raise ValueError(\"invalid animal index\")\n",
    "                            rabbits_around = get_animals_around(self.population_map, \n",
    "                                i, j, \"rabbit\" )\n",
    "                        animal.move( (self.rows, self.cols, len(self.species_list)), \n",
    "                            rabbits_around, foxes_around )\n",
    "                        self.objects_map[animal.row][animal.col][species_index].append(animal)\n",
    "                        self.objects_map[i][j][species_index].remove(animal)\n",
    "\n",
    "\n",
    "    def make_population_map(self):\n",
    "        self.population_map = np.zeros(\n",
    "            (self.rows, self.cols, len(self.species_list) ), dtype = int)\n",
    "\n",
    "        for i in range(self.rows):\n",
    "            for j in range(self.cols):\n",
    "                for species_index in range( len(self.species_list) ):\n",
    "                    self.population_map[i, j, species_index] \\\n",
    "                        = len(self.objects_map[i][j][species_index])\n",
    "        return self.population_map\n",
    "\n",
    "\n",
    "    def hunt(self):\n",
    "        self.hunt_log_map = np.zeros((self.rows, self.cols), dtype = int)\n",
    "        for i in range(self.rows):\n",
    "            for j in range(self.cols):\n",
    "                rabbits_array = self.objects_map[i][j][0]\n",
    "                foxes_array = self.objects_map[i][j][1]\n",
    "\n",
    "                hunted_animals = min( len(foxes_array), len(rabbits_array) )\n",
    "                self.objects_map[i][j][0] = list (np.delete(\n",
    "                        rabbits_array, np.random.choice(len(rabbits_array), \n",
    "                    hunted_animals, replace = False)))\n",
    "                self.hunt_log_map[i, j] += hunted_animals\n",
    "\n",
    "\n",
    "    def reproduction(self, species):\n",
    "        temporal_objects_map = copy.deepcopy(self.objects_map)\n",
    "\n",
    "        if species == \"rabbit\":\n",
    "            for i in range(self.rows):\n",
    "                for j in range(self.cols):\n",
    "                    species_index = self.species_list.index(species)\n",
    "                    for animal in temporal_objects_map[i][j][species_index]:\n",
    "                        brood = animal.reproduce()\n",
    "                        self.objects_map[brood.row][brood.col][species_index] \\\n",
    "                            .append(animal.reproduce())\n",
    "\n",
    "        elif species == \"fox\":\n",
    "            for i in range(self.rows):\n",
    "                for j in range(self.cols):\n",
    "                    species_index = self.species_list.index(species)\n",
    "                    print(f\"self.objects_map[i][j][species_index] \\\n",
    "                        = {self.objects_map[i][j][species_index]}\")\n",
    "                    print(f\"self.hunt_log_map[i, j] = {self.hunt_log_map[i, j]}\")\n",
    "                    print(f\"species_index = {species_index}\")\n",
    "                    if (self.objects_map[i][j][species_index]):\n",
    "                        breeding_foxes = list( np.random.choice(\n",
    "                            self.objects_map[i][j][species_index],\n",
    "                            self.hunt_log_map[i, j],\n",
    "                            replace = False ) )\n",
    "                        for fox in breeding_foxes:\n",
    "                            brood = fox.reproduce()\n",
    "                            self.objects_map[brood.row][brood.col][species_index] \\\n",
    "                                .append(fox.reproduce())\n"
   ]
  },
  {
   "cell_type": "code",
   "execution_count": 22,
   "metadata": {},
   "outputs": [
    {
     "data": {
      "text/plain": [
       "array([[[1, 0],\n",
       "        [4, 0],\n",
       "        [0, 0]],\n",
       "\n",
       "       [[0, 0],\n",
       "        [3, 0],\n",
       "        [0, 0]],\n",
       "\n",
       "       [[1, 0],\n",
       "        [0, 0],\n",
       "        [1, 0]]])"
      ]
     },
     "execution_count": 22,
     "metadata": {},
     "output_type": "execute_result"
    }
   ],
   "source": [
    "\n",
    "m1 = Map(3, 3)\n",
    "m1.populate(10, \"rabbit\", \"random\")\n",
    "m1.get_population_map()\n"
   ]
  },
  {
   "cell_type": "code",
   "execution_count": 23,
   "metadata": {},
   "outputs": [
    {
     "data": {
      "text/plain": [
       "array([[[0, 0],\n",
       "        [0, 4],\n",
       "        [2, 0]],\n",
       "\n",
       "       [[2, 0],\n",
       "        [1, 0],\n",
       "        [1, 1]],\n",
       "\n",
       "       [[1, 0],\n",
       "        [2, 3],\n",
       "        [1, 2]]])"
      ]
     },
     "execution_count": 23,
     "metadata": {},
     "output_type": "execute_result"
    }
   ],
   "source": [
    "\n",
    "m2 = Map(3, 3)\n",
    "m2.populate(10, \"rabbit\", \"random\")\n",
    "m2.populate(10, \"fox\", \"random\")\n",
    "m2.get_population_map()\n"
   ]
  },
  {
   "cell_type": "code",
   "execution_count": 24,
   "metadata": {},
   "outputs": [
    {
     "name": "stdout",
     "output_type": "stream",
     "text": [
      "[[0 0 0]\n",
      " [0 0 1]\n",
      " [0 2 1]]\n",
      "[[[0 0]\n",
      "  [0 4]\n",
      "  [2 0]]\n",
      "\n",
      " [[2 0]\n",
      "  [1 0]\n",
      "  [0 1]]\n",
      "\n",
      " [[1 0]\n",
      "  [0 3]\n",
      "  [0 2]]]\n"
     ]
    }
   ],
   "source": [
    "m2.hunt()\n",
    "print(m2.hunt_log_map)\n",
    "print(m2.get_population_map())"
   ]
  },
  {
   "cell_type": "code",
   "execution_count": 57,
   "metadata": {},
   "outputs": [
    {
     "data": {
      "text/plain": [
       "array([[[2, 1],\n",
       "        [0, 1],\n",
       "        [3, 2]],\n",
       "\n",
       "       [[2, 1],\n",
       "        [0, 0],\n",
       "        [2, 3]],\n",
       "\n",
       "       [[1, 0],\n",
       "        [1, 1],\n",
       "        [1, 1]]])"
      ]
     },
     "execution_count": 57,
     "metadata": {},
     "output_type": "execute_result"
    }
   ],
   "source": [
    "m2.move_animals()\n",
    "m2.get_population_map()"
   ]
  },
  {
   "cell_type": "code",
   "execution_count": 26,
   "metadata": {},
   "outputs": [
    {
     "data": {
      "text/plain": [
       "array([[[0, 1],\n",
       "        [2, 3],\n",
       "        [1, 1]],\n",
       "\n",
       "       [[2, 1],\n",
       "        [0, 1],\n",
       "        [0, 0]],\n",
       "\n",
       "       [[0, 0],\n",
       "        [1, 2],\n",
       "        [0, 1]]])"
      ]
     },
     "execution_count": 26,
     "metadata": {},
     "output_type": "execute_result"
    }
   ],
   "source": [
    "# m2.hunt()\n",
    "# m2.reproduction(\"fox\")\n",
    "m2.get_population_map()"
   ]
  },
  {
   "cell_type": "code",
   "execution_count": 27,
   "metadata": {},
   "outputs": [
    {
     "data": {
      "text/plain": [
       "array([], dtype=int64)"
      ]
     },
     "execution_count": 27,
     "metadata": {},
     "output_type": "execute_result"
    }
   ],
   "source": [
    "np.random.choice([3, 5], 0, replace = False)"
   ]
  },
  {
   "cell_type": "code",
   "execution_count": 28,
   "metadata": {},
   "outputs": [
    {
     "data": {
      "text/plain": [
       "array([[[0, 1],\n",
       "        [4, 3],\n",
       "        [2, 1]],\n",
       "\n",
       "       [[4, 1],\n",
       "        [0, 1],\n",
       "        [0, 0]],\n",
       "\n",
       "       [[0, 0],\n",
       "        [2, 2],\n",
       "        [0, 1]]])"
      ]
     },
     "execution_count": 28,
     "metadata": {},
     "output_type": "execute_result"
    }
   ],
   "source": [
    "m2.reproduction(\"rabbit\")\n",
    "m2.get_population_map()"
   ]
  },
  {
   "cell_type": "code",
   "execution_count": 29,
   "metadata": {},
   "outputs": [
    {
     "data": {
      "text/plain": [
       "[1, 5]"
      ]
     },
     "execution_count": 29,
     "metadata": {},
     "output_type": "execute_result"
    }
   ],
   "source": [
    "l_o_l = [[[1, 5], [2, 4]], [3, 4], [5, 6]]\n",
    "a = l_o_l[0][0]\n",
    "a"
   ]
  },
  {
   "cell_type": "code",
   "execution_count": 30,
   "metadata": {},
   "outputs": [],
   "source": [
    "a.remove(1)"
   ]
  },
  {
   "cell_type": "code",
   "execution_count": 31,
   "metadata": {},
   "outputs": [],
   "source": [
    "a = [5]"
   ]
  },
  {
   "cell_type": "code",
   "execution_count": 32,
   "metadata": {},
   "outputs": [
    {
     "data": {
      "text/plain": [
       "[5]"
      ]
     },
     "execution_count": 32,
     "metadata": {},
     "output_type": "execute_result"
    }
   ],
   "source": [
    "a"
   ]
  },
  {
   "cell_type": "code",
   "execution_count": 33,
   "metadata": {},
   "outputs": [
    {
     "data": {
      "text/plain": [
       "[[[5], [2, 4]], [3, 4], [5, 6]]"
      ]
     },
     "execution_count": 33,
     "metadata": {},
     "output_type": "execute_result"
    }
   ],
   "source": [
    "l_o_l"
   ]
  },
  {
   "cell_type": "code",
   "execution_count": 34,
   "metadata": {},
   "outputs": [],
   "source": [
    "rabbits_array = [1, 2, 3, 4, 5]"
   ]
  },
  {
   "cell_type": "code",
   "execution_count": 35,
   "metadata": {},
   "outputs": [],
   "source": [
    "rabbits_array = list (np.delete(\n",
    "                        rabbits_array, np.random.choice(len(rabbits_array), \n",
    "                    3, replace = False)))"
   ]
  },
  {
   "cell_type": "code",
   "execution_count": 36,
   "metadata": {},
   "outputs": [],
   "source": [
    "# rabbits_array.pop(list(np.random.choice(len(rabbits_array), 3, replace = False)))"
   ]
  },
  {
   "cell_type": "code",
   "execution_count": 37,
   "metadata": {},
   "outputs": [
    {
     "data": {
      "text/plain": [
       "array([0, 2])"
      ]
     },
     "execution_count": 37,
     "metadata": {},
     "output_type": "execute_result"
    }
   ],
   "source": [
    "np.random.choice(3, 2, replace = False)"
   ]
  },
  {
   "cell_type": "code",
   "execution_count": 38,
   "metadata": {},
   "outputs": [
    {
     "data": {
      "text/plain": [
       "[2, 3]"
      ]
     },
     "execution_count": 38,
     "metadata": {},
     "output_type": "execute_result"
    }
   ],
   "source": [
    "rabbits_array"
   ]
  },
  {
   "attachments": {},
   "cell_type": "markdown",
   "metadata": {},
   "source": [
    "# temp"
   ]
  },
  {
   "cell_type": "code",
   "execution_count": 39,
   "metadata": {},
   "outputs": [],
   "source": [
    "class MyClass:\n",
    "    classVar = None\n",
    "\n",
    "    def __init__(self, x, newClassVar = None):\n",
    "        self.x = x\n",
    "        if newClassVar is not None:\n",
    "            MyClass.classVar = newClassVar\n",
    "    \n",
    "    def setClassVar(self, newClassVar):\n",
    "        MyClass.classVar = newClassVar\n",
    "        print(f\"getClassVar: {self.getClassVar()}\")\n",
    "\n",
    "    def getClassVar(self):\n",
    "        return MyClass.classVar\n",
    "\n",
    "    def print_message_then_wait(self, message):\n",
    "        print(message)\n",
    "        time.sleep(5)\n",
    "        print(f\"x: {self.x}\")"
   ]
  },
  {
   "cell_type": "code",
   "execution_count": 40,
   "metadata": {},
   "outputs": [
    {
     "data": {
      "text/plain": [
       "[[[[], []], [[], []], [[], []]], [[[], []], [[], []], [[], []]]]"
      ]
     },
     "execution_count": 40,
     "metadata": {},
     "output_type": "execute_result"
    }
   ],
   "source": [
    "rows = 2\n",
    "cols = 3\n",
    "\n",
    "my_map = [[[[], []] for i in range(cols)] for j in range(rows)]\n",
    "my_map"
   ]
  },
  {
   "cell_type": "code",
   "execution_count": 41,
   "metadata": {},
   "outputs": [
    {
     "data": {
      "text/plain": [
       "[[[[], []], [[], []], [[], []]], [[[[5]], []], [[], []], [[], []]]]"
      ]
     },
     "execution_count": 41,
     "metadata": {},
     "output_type": "execute_result"
    }
   ],
   "source": [
    "animal_index = 0\n",
    "my_map[1][0][ animal_index ].append(a)\n",
    "my_map"
   ]
  },
  {
   "cell_type": "code",
   "execution_count": 42,
   "metadata": {},
   "outputs": [
    {
     "data": {
      "text/plain": [
       "[[[[], []], [[], []], [[], []]], [[[], []], [[], []], [[], []]]]"
      ]
     },
     "execution_count": 42,
     "metadata": {},
     "output_type": "execute_result"
    }
   ],
   "source": [
    "my_map[1][0][ animal_index ].remove(a)\n",
    "my_map"
   ]
  },
  {
   "cell_type": "code",
   "execution_count": 43,
   "metadata": {},
   "outputs": [
    {
     "name": "stdout",
     "output_type": "stream",
     "text": [
      "<class 'list'>\n",
      "<class 'list'>\n"
     ]
    }
   ],
   "source": [
    "arr = list(np.arange(10))\n",
    "print( type(arr) )\n",
    "# append 10 to arr\n",
    "arr = list(np.append(arr, 10))\n",
    "arr\n",
    "print( type(arr) )"
   ]
  },
  {
   "cell_type": "code",
   "execution_count": 44,
   "metadata": {},
   "outputs": [
    {
     "name": "stdout",
     "output_type": "stream",
     "text": [
      "11\n"
     ]
    },
    {
     "data": {
      "text/plain": [
       "[0, 1, 2, 3, 4, 5, 6, 7, 8, 9, 10, 15]"
      ]
     },
     "execution_count": 44,
     "metadata": {},
     "output_type": "execute_result"
    }
   ],
   "source": [
    "arr = list(np.append(arr, 15))\n",
    "type( list(arr) )\n",
    "print(arr.index(15))\n",
    "arr\n"
   ]
  },
  {
   "cell_type": "code",
   "execution_count": 45,
   "metadata": {},
   "outputs": [],
   "source": [
    "# np.random.choice(len(arange), 2, replace = False)"
   ]
  },
  {
   "cell_type": "code",
   "execution_count": 46,
   "metadata": {},
   "outputs": [],
   "source": [
    "arange = np.arange(10)"
   ]
  },
  {
   "cell_type": "code",
   "execution_count": 47,
   "metadata": {},
   "outputs": [
    {
     "data": {
      "text/plain": [
       "array([0, 1, 2, 3, 6, 7, 8, 9])"
      ]
     },
     "execution_count": 47,
     "metadata": {},
     "output_type": "execute_result"
    }
   ],
   "source": [
    "arange = np.delete(arange, np.random.choice(len(arange), 2 , replace = False))\n",
    "\n",
    "arange "
   ]
  }
 ],
 "metadata": {
  "kernelspec": {
   "display_name": "nbPygame",
   "language": "python",
   "name": "python3"
  },
  "language_info": {
   "codemirror_mode": {
    "name": "ipython",
    "version": 3
   },
   "file_extension": ".py",
   "mimetype": "text/x-python",
   "name": "python",
   "nbconvert_exporter": "python",
   "pygments_lexer": "ipython3",
   "version": "3.11.0"
  },
  "orig_nbformat": 4,
  "vscode": {
   "interpreter": {
    "hash": "134598a2cd3b23987ae1a29bd6b0d3e00644250c18b30d1150a3b7f4dbd30147"
   }
  }
 },
 "nbformat": 4,
 "nbformat_minor": 2
}
