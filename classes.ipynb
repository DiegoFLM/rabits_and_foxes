{
 "cells": [
  {
   "cell_type": "code",
   "execution_count": 6,
   "metadata": {},
   "outputs": [],
   "source": [
    "import nbimporter\n",
    "import rabbits_and_foxes as raf"
   ]
  },
  {
   "cell_type": "code",
   "execution_count": 7,
   "metadata": {},
   "outputs": [],
   "source": [
    "import numpy as np\n",
    "import time"
   ]
  },
  {
   "attachments": {},
   "cell_type": "markdown",
   "metadata": {},
   "source": [
    "# Classes"
   ]
  },
  {
   "attachments": {},
   "cell_type": "markdown",
   "metadata": {},
   "source": [
    "## class Animal"
   ]
  },
  {
   "cell_type": "code",
   "execution_count": 8,
   "metadata": {},
   "outputs": [],
   "source": [
    "class Animal:\n",
    "\n",
    "\n",
    "    def __init__(self, _row, _col, _species, _strategy, \n",
    "        _preferred_direction = None, _clockwise = True,\n",
    "        _diagonal_prediction = False):\n",
    "\n",
    "        if _species == \"rabbit\" or _species == \"fox\":\n",
    "            self.species = _species\n",
    "        else:\n",
    "            raise ValueError(\"invalid animal species\")\n",
    "        \n",
    "        self.row = _row\n",
    "        self.col = _col\n",
    "        self.strategy = _strategy\n",
    "        self.preferred_direction = _preferred_direction\n",
    "        self.clockwise = _clockwise\n",
    "        self.diagonal_prediction = _diagonal_prediction\n",
    "\n",
    "        if _species == \"rabbit\":\n",
    "            self.animal_index = 0\n",
    "        elif _species == \"fox\":\n",
    "            self.animal_index = 1\n",
    "\n",
    "    \n",
    "\n",
    "    def get_position(self):\n",
    "        return (self.row, self.col)\n",
    "    \n",
    "    def get_strategy(self):\n",
    "        return self.strategy\n",
    "\n",
    "    def move(self, rabbits_around = None, foxes_around = None):\n",
    "        if self.strategy == \"random\":\n",
    "            dir = raf.random_movement()\n",
    "\n",
    "        elif self.strategy == \"clockwise_escape\":\n",
    "            dir = raf.clockwise_escape(foxes_around,\n",
    "                self.preferred_direction, self.clockwise)\n",
    "\n",
    "        elif self.strategy == \"chasing_1\":\n",
    "            dir = raf.chasing_1(rabbits_around, self.preferred_direction,\n",
    "                self.clockwise, self.diagonal_prediction)\n",
    "        else:\n",
    "            raise ValueError(\"invalid strategy\")\n",
    "\n",
    "        # 0 1 2\n",
    "        # 7   3\n",
    "        # 6 5 4\n",
    "\n",
    "        if (dir < 0) or (dir > 7):\n",
    "            raise ValueError(\"Animal.move(): invalid direction\")\n",
    "\n",
    "        if dir == 0:\n",
    "            self.row -= 1\n",
    "            self.col -= 1\n",
    "        elif dir == 1:\n",
    "            self.row -= 1\n",
    "        elif dir == 2:\n",
    "            self.row -= 1\n",
    "            self.col += 1\n",
    "        elif dir == 3:\n",
    "            self.col += 1\n",
    "        elif dir == 4:\n",
    "            self.row += 1\n",
    "            self.col += 1\n",
    "        elif dir == 5:\n",
    "            self.row += 1\n",
    "        elif dir == 6:\n",
    "            self.row += 1\n",
    "            self.col -= 1\n",
    "        elif dir == 7:\n",
    "            self.col -= 1 \n",
    "    \n",
    "\n",
    "    def reproduce(self):\n",
    "        return Animal(self.row, self.col, self.species, self.strategy,\n",
    "            self.preferred_direction, self.clockwise, self.diagonal_prediction)\n",
    "\n"
   ]
  },
  {
   "cell_type": "code",
   "execution_count": 12,
   "metadata": {},
   "outputs": [],
   "source": [
    "\n",
    "rabbit_1 = Animal(1, 3, \"rabbit\", \"random\")"
   ]
  },
  {
   "cell_type": "code",
   "execution_count": 14,
   "metadata": {},
   "outputs": [
    {
     "data": {
      "text/plain": [
       "'rabbit'"
      ]
     },
     "execution_count": 14,
     "metadata": {},
     "output_type": "execute_result"
    }
   ],
   "source": [
    "rabbit_1.species"
   ]
  },
  {
   "cell_type": "code",
   "execution_count": 13,
   "metadata": {},
   "outputs": [
    {
     "data": {
      "text/plain": [
       "(1, 3)"
      ]
     },
     "execution_count": 13,
     "metadata": {},
     "output_type": "execute_result"
    }
   ],
   "source": [
    "rabbit_1.get_position()\n"
   ]
  },
  {
   "attachments": {},
   "cell_type": "markdown",
   "metadata": {},
   "source": [
    "## Map"
   ]
  },
  {
   "cell_type": "code",
   "execution_count": 4,
   "metadata": {},
   "outputs": [],
   "source": [
    "class Map:\n",
    "\n",
    "    def __init__(self, _rows, _cols):\n",
    "        self.rows = _rows\n",
    "        self.cols = _cols\n",
    "        self.population_map = np.zeros((self.rows, self.cols, 2), dtype = int)\n",
    "\n",
    "        self.objects_map = [[[[], []] for i in range(self.cols)] for j in range(self.rows)]\n",
    "        self.temporal_objects_map = [[[[], []] for i in range(self.cols)] for j in range(self.rows)]\n",
    "\n",
    "        self.hunt_log_map = np.zeros((self.rows, self.cols), dtype = int)\n",
    "\n",
    "    def set_population_map(self, _population_map):\n",
    "        self.population_map = _population_map\n",
    "\n",
    "    def set_objects_map(self, _objects_map):\n",
    "        self.objects_map = _objects_map\n",
    "\n",
    "    def get_population_map(self):\n",
    "        return self.population_map\n",
    "\n",
    "    def get_objects_map(self):\n",
    "        return self.objects_map\n",
    "\n",
    "    def populate(self, amount, species, strategy, \n",
    "        preferred_direction = None, clockwise = True,\n",
    "        diagonal_prediction = False):\n",
    "\n",
    "        self.population_map = np.zeros((self.rows, self.cols, 2), dtype = int)\n",
    "        self.objects_map = [[[[], []] for i in range(self.cols)] for j in range(self.rows)]\n",
    "        # self.temporal_objects_map = [[[[], []] for i in range(self.cols)] for j in range(self.rows)]\n",
    "        self.hunt_log_map = np.zeros((self.rows, self.cols), dtype = int)\n",
    "\n",
    "        if not (species == \"rabbit\" or species == \"fox\"):\n",
    "            raise ValueError(\"invalid animal species\")\n",
    "\n",
    "        if species == \"rabbit\":\n",
    "            animal_index = 0\n",
    "        elif species == \"fox\":\n",
    "            animal_index = 1\n",
    "\n",
    "        for i in range (amount):\n",
    "            row = np.random.randint(0, self.rows)\n",
    "            col = np.random.randint(0, self.cols)\n",
    "            self.population_map[row, col, animal_index] += 1\n",
    "            self.objects_map[row, col, animal_index].append(Animal(row, col,\n",
    "                species, strategy, preferred_direction, clockwise, diagonal_prediction))\n",
    "\n",
    "    def move_animals(self):\n",
    "\n",
    "        temporal_objects_map = self.objects_map.copy()\n",
    "        self.objects_map = [[[[], []] for i in range(self.cols)] for j in range(self.rows)]\n",
    "        temporal_population_map = self.population_map.copy()\n",
    "        self.population_map = np.zeros((self.rows, self.cols, 2), dtype = int)\n",
    "\n",
    "        for i in range(self.rows):\n",
    "            for j in range(self.cols):\n",
    "                for animal_index in range(2):\n",
    "                    for animal in self.objects_map[i, j, animal_index]:\n",
    "                        rabbits_around = None\n",
    "                        foxes_around = None\n",
    "                        if animal.species == \"rabbit\":\n",
    "                            if animal_index != 0:\n",
    "                                raise ValueError(\"invalid animal index\")\n",
    "                            foxes_around = raf.get_animals_around(temporal_population_map, i, j, animal.species)\n",
    "                        elif animal.species == \"fox\":\n",
    "                            if animal_index != 1:\n",
    "                                raise ValueError(\"invalid animal index\")\n",
    "                            rabbits_around = raf.get_animals_around(temporal_population_map, i, j, animal.species)\n",
    "                        animal.move(rabbits_around, foxes_around)\n",
    "                        self.objects_map[animal.row, animal.col, animal_index].append(animal)\n",
    "                        self.population_map[animal.row, animal.col, animal_index] += 1\n",
    "    \n",
    "    \n",
    "\n",
    "\n",
    "    "
   ]
  },
  {
   "cell_type": "code",
   "execution_count": 77,
   "metadata": {},
   "outputs": [
    {
     "data": {
      "text/plain": [
       "array([0, 1, 2])"
      ]
     },
     "execution_count": 77,
     "metadata": {},
     "output_type": "execute_result"
    }
   ],
   "source": [
    "np.arange(3)"
   ]
  },
  {
   "cell_type": "code",
   "execution_count": null,
   "metadata": {},
   "outputs": [],
   "source": []
  },
  {
   "attachments": {},
   "cell_type": "markdown",
   "metadata": {},
   "source": [
    "# temp"
   ]
  },
  {
   "cell_type": "code",
   "execution_count": 20,
   "metadata": {},
   "outputs": [],
   "source": [
    "class MyClass:\n",
    "    classVar = None\n",
    "\n",
    "    def __init__(self, x, newClassVar = None):\n",
    "        self.x = x\n",
    "        if newClassVar is not None:\n",
    "            MyClass.classVar = newClassVar\n",
    "    \n",
    "    def setClassVar(self, newClassVar):\n",
    "        MyClass.classVar = newClassVar\n",
    "\n",
    "    def getClassVar(self):\n",
    "        return MyClass.classVar\n",
    "\n",
    "    def print_message_then_wait(self, message):\n",
    "        print(message)\n",
    "        time.sleep(5)\n",
    "        print(f\"x: {self.x}\")"
   ]
  },
  {
   "cell_type": "code",
   "execution_count": 32,
   "metadata": {},
   "outputs": [
    {
     "name": "stdout",
     "output_type": "stream",
     "text": [
      "None\n"
     ]
    }
   ],
   "source": [
    "a = MyClass(1)\n",
    "print(a.getClassVar())"
   ]
  },
  {
   "cell_type": "code",
   "execution_count": 33,
   "metadata": {},
   "outputs": [
    {
     "name": "stdout",
     "output_type": "stream",
     "text": [
      "None\n"
     ]
    }
   ],
   "source": [
    "b = MyClass(2)\n",
    "print(b.getClassVar())\n"
   ]
  },
  {
   "cell_type": "code",
   "execution_count": 64,
   "metadata": {},
   "outputs": [
    {
     "data": {
      "text/plain": [
       "[[[[], []], [[], []], [[], []]], [[[], []], [[], []], [[], []]]]"
      ]
     },
     "execution_count": 64,
     "metadata": {},
     "output_type": "execute_result"
    }
   ],
   "source": [
    "rows = 2\n",
    "cols = 3\n",
    "\n",
    "my_map = [[[[], []] for i in range(cols)] for j in range(rows)]\n",
    "my_map"
   ]
  },
  {
   "cell_type": "code",
   "execution_count": 74,
   "metadata": {},
   "outputs": [
    {
     "data": {
      "text/plain": [
       "[[[[], []], [[], []], [[], []]],\n",
       " [[[<__main__.MyClass at 0x7f90ba058590>,\n",
       "    <__main__.MyClass at 0x7f90ba058590>,\n",
       "    <__main__.MyClass at 0x7f90ba058590>],\n",
       "   [<__main__.MyClass at 0x7f90ba058590>,\n",
       "    <__main__.MyClass at 0x7f90ba058590>,\n",
       "    <__main__.MyClass at 0x7f90ba058590>,\n",
       "    <__main__.MyClass at 0x7f90ba058590>,\n",
       "    <__main__.MyClass at 0x7f90ba058590>,\n",
       "    <__main__.MyClass at 0x7f90ba058590>,\n",
       "    <__main__.MyClass at 0x7f90ba058590>]],\n",
       "  [[], []],\n",
       "  [[], []]]]"
      ]
     },
     "execution_count": 74,
     "metadata": {},
     "output_type": "execute_result"
    }
   ],
   "source": [
    "animal_index = 0\n",
    "my_map[1][0][ animal_index ].append(a)\n",
    "my_map"
   ]
  },
  {
   "cell_type": "code",
   "execution_count": 58,
   "metadata": {},
   "outputs": [
    {
     "data": {
      "text/plain": [
       "[[[], [], [], []], [[], [], [], []], [[], [], [], []]]"
      ]
     },
     "execution_count": 58,
     "metadata": {},
     "output_type": "execute_result"
    }
   ],
   "source": [
    "my_map[1][0].remove(a)\n",
    "my_map"
   ]
  },
  {
   "cell_type": "code",
   "execution_count": 188,
   "metadata": {},
   "outputs": [
    {
     "name": "stdout",
     "output_type": "stream",
     "text": [
      "None\n"
     ]
    }
   ],
   "source": [
    "a = MyClass(1)\n",
    "print(a.getClassVar())"
   ]
  },
  {
   "cell_type": "code",
   "execution_count": 203,
   "metadata": {},
   "outputs": [
    {
     "data": {
      "text/plain": [
       "[0, 1, 2, <__main__.MyClass at 0x7f6664ef92d0>, 4, 5]"
      ]
     },
     "execution_count": 203,
     "metadata": {},
     "output_type": "execute_result"
    }
   ],
   "source": [
    "arr2 = [0, 1, 2]\n",
    "arr2.append(a)\n",
    "arr2.append(4)\n",
    "arr2.append(5)\n",
    "arr2\n"
   ]
  },
  {
   "cell_type": "code",
   "execution_count": 207,
   "metadata": {},
   "outputs": [
    {
     "ename": "IndexError",
     "evalue": "list index out of range",
     "output_type": "error",
     "traceback": [
      "\u001b[0;31m---------------------------------------------------------------------------\u001b[0m",
      "\u001b[0;31mIndexError\u001b[0m                                Traceback (most recent call last)",
      "Cell \u001b[0;32mIn[207], line 1\u001b[0m\n\u001b[0;32m----> 1\u001b[0m arr2\u001b[39m.\u001b[39mremove(arr2[\u001b[39m3\u001b[39;49m])\n\u001b[1;32m      3\u001b[0m arr2\n",
      "\u001b[0;31mIndexError\u001b[0m: list index out of range"
     ]
    }
   ],
   "source": [
    "arr2.remove(arr2[3])\n",
    "\n",
    "arr2\n"
   ]
  },
  {
   "cell_type": "code",
   "execution_count": 167,
   "metadata": {},
   "outputs": [
    {
     "name": "stdout",
     "output_type": "stream",
     "text": [
      "[1 3 4 5]\n"
     ]
    }
   ],
   "source": [
    "arr = np.array([1, 2, 3, 4, 5])\n",
    "arr = np.delete(arr, 1)\n",
    "print(arr)\n"
   ]
  },
  {
   "cell_type": "code",
   "execution_count": 159,
   "metadata": {},
   "outputs": [
    {
     "name": "stdout",
     "output_type": "stream",
     "text": [
      "hello\n",
      "x: 1\n"
     ]
    }
   ],
   "source": [
    "a.print_message_then_wait(\"hello\")"
   ]
  },
  {
   "cell_type": "code",
   "execution_count": 185,
   "metadata": {},
   "outputs": [
    {
     "data": {
      "text/plain": [
       "array([<__main__.MyClass object at 0x7f6664f54190>, 0, 0, 0, 0, 0],\n",
       "      dtype=object)"
      ]
     },
     "execution_count": 185,
     "metadata": {},
     "output_type": "execute_result"
    }
   ],
   "source": [
    "arr = np.zeros(6, dtype = object)\n",
    "arr[0] = a\n",
    "arr"
   ]
  },
  {
   "cell_type": "code",
   "execution_count": 186,
   "metadata": {},
   "outputs": [
    {
     "ename": "IndexError",
     "evalue": "arrays used as indices must be of integer (or boolean) type",
     "output_type": "error",
     "traceback": [
      "\u001b[0;31m---------------------------------------------------------------------------\u001b[0m",
      "\u001b[0;31mIndexError\u001b[0m                                Traceback (most recent call last)",
      "Cell \u001b[0;32mIn[186], line 3\u001b[0m\n\u001b[1;32m      1\u001b[0m arr[\u001b[39m4\u001b[39m] \u001b[39m=\u001b[39m MyClass(\u001b[39m2\u001b[39m)\n\u001b[0;32m----> 3\u001b[0m arr \u001b[39m=\u001b[39m np\u001b[39m.\u001b[39;49mdelete(arr, a)\n\u001b[1;32m      4\u001b[0m \u001b[39m# np.delete(arr, 4)\u001b[39;00m\n\u001b[1;32m      5\u001b[0m \u001b[39m# arr[4].print_message_then_wait(\"hello\")\u001b[39;00m\n\u001b[1;32m      6\u001b[0m \u001b[39m# arr = arr[:4]\u001b[39;00m\n\u001b[1;32m      7\u001b[0m arr \n",
      "File \u001b[0;32m<__array_function__ internals>:200\u001b[0m, in \u001b[0;36mdelete\u001b[0;34m(*args, **kwargs)\u001b[0m\n",
      "File \u001b[0;32m~/mambaforge/envs/nbPygame/lib/python3.11/site-packages/numpy/lib/function_base.py:5235\u001b[0m, in \u001b[0;36mdelete\u001b[0;34m(arr, obj, axis)\u001b[0m\n\u001b[1;32m   5233\u001b[0m \u001b[39melse\u001b[39;00m:\n\u001b[1;32m   5234\u001b[0m     keep \u001b[39m=\u001b[39m ones(N, dtype\u001b[39m=\u001b[39m\u001b[39mbool\u001b[39m)\n\u001b[0;32m-> 5235\u001b[0m     keep[obj,] \u001b[39m=\u001b[39m \u001b[39mFalse\u001b[39;00m\n\u001b[1;32m   5237\u001b[0m slobj[axis] \u001b[39m=\u001b[39m keep\n\u001b[1;32m   5238\u001b[0m new \u001b[39m=\u001b[39m arr[\u001b[39mtuple\u001b[39m(slobj)]\n",
      "\u001b[0;31mIndexError\u001b[0m: arrays used as indices must be of integer (or boolean) type"
     ]
    }
   ],
   "source": [
    "arr[4] = MyClass(2)\n",
    "\n",
    "arr = np.delete(arr, a)\n",
    "# np.delete(arr, 4)\n",
    "# arr[4].print_message_then_wait(\"hello\")\n",
    "# arr = arr[:4]\n",
    "arr "
   ]
  },
  {
   "cell_type": "code",
   "execution_count": null,
   "metadata": {},
   "outputs": [],
   "source": [
    "arr[0].print_message_then_wait(\"hello\")"
   ]
  },
  {
   "cell_type": "code",
   "execution_count": null,
   "metadata": {},
   "outputs": [],
   "source": [
    "print(a.classVar)"
   ]
  },
  {
   "cell_type": "code",
   "execution_count": null,
   "metadata": {},
   "outputs": [],
   "source": [
    "a.setClassVar([[2], \n",
    "                [3]])"
   ]
  },
  {
   "cell_type": "code",
   "execution_count": null,
   "metadata": {},
   "outputs": [],
   "source": [
    "\n",
    "print(a.getClassVar())"
   ]
  },
  {
   "cell_type": "code",
   "execution_count": null,
   "metadata": {},
   "outputs": [],
   "source": [
    "b = MyClass(2)\n"
   ]
  },
  {
   "cell_type": "code",
   "execution_count": null,
   "metadata": {},
   "outputs": [],
   "source": [
    "print(b.getClassVar())"
   ]
  },
  {
   "cell_type": "code",
   "execution_count": null,
   "metadata": {},
   "outputs": [],
   "source": [
    "b.setClassVar([[4],\n",
    "                [5]])"
   ]
  },
  {
   "cell_type": "code",
   "execution_count": null,
   "metadata": {},
   "outputs": [],
   "source": []
  }
 ],
 "metadata": {
  "kernelspec": {
   "display_name": "nbPygame",
   "language": "python",
   "name": "python3"
  },
  "language_info": {
   "codemirror_mode": {
    "name": "ipython",
    "version": 3
   },
   "file_extension": ".py",
   "mimetype": "text/x-python",
   "name": "python",
   "nbconvert_exporter": "python",
   "pygments_lexer": "ipython3",
   "version": "3.11.0"
  },
  "orig_nbformat": 4,
  "vscode": {
   "interpreter": {
    "hash": "134598a2cd3b23987ae1a29bd6b0d3e00644250c18b30d1150a3b7f4dbd30147"
   }
  }
 },
 "nbformat": 4,
 "nbformat_minor": 2
}
