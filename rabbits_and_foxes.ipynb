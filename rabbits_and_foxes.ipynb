{
 "cells": [
  {
   "cell_type": "code",
   "execution_count": null,
   "metadata": {},
   "outputs": [],
   "source": [
    "# import numpy as np\n",
    "# import pygame "
   ]
  },
  {
   "attachments": {},
   "cell_type": "markdown",
   "metadata": {},
   "source": [
    "# Initial Set"
   ]
  },
  {
   "cell_type": "code",
   "execution_count": null,
   "metadata": {},
   "outputs": [],
   "source": []
  },
  {
   "attachments": {},
   "cell_type": "markdown",
   "metadata": {},
   "source": [
    "# Evolutive Algorithm"
   ]
  },
  {
   "cell_type": "code",
   "execution_count": null,
   "metadata": {},
   "outputs": [],
   "source": [
    "# returns an array of tuples (length = 2) with the last generation chromosomes and their fitness\n",
    "\n",
    "def evolve(chromosomeArray, fitnessFunction, generations):\n",
    "    \"\"\"\n",
    "    Applay the genetic algorithm to the chromosomeArray.\n",
    "    Args:\n",
    "        chromosomeArray: (numpy.ndarray) the array of chromosomes to evolve (the 0 generation).\n",
    "        fitnessFunction:((chromosome) -> float) the function that calculates the \n",
    "            fitness of each chromosome.\n",
    "        generations: (int) the number of generations to evolve.\n",
    "\n",
    "    Returns:\n",
    "        (chromosomeArray, fitnessArray, stored, meanFitnessArray)\n",
    "    \"\"\"\n",
    "    currentGeneration = 0\n",
    "    stored = []\n",
    "    while currentGeneration < generations:\n",
    "        fitnessArray = np.apply_along_axis(fitnessFunction, 1, chromosomeArray)\n",
    "        \n",
    "        # get the chromosomes that meet the storingCriteriaFunction conditions."
   ]
  },
  {
   "attachments": {},
   "cell_type": "markdown",
   "metadata": {},
   "source": [
    "# Testing"
   ]
  },
  {
   "cell_type": "code",
   "execution_count": null,
   "metadata": {},
   "outputs": [
    {
     "name": "stdout",
     "output_type": "stream",
     "text": [
      "pygame 2.1.3.dev8 (SDL 2.26.2, Python 3.11.0)\n",
      "Hello from the pygame community. https://www.pygame.org/contribute.html\n"
     ]
    }
   ],
   "source": [
    "import numpy as np\n",
    "import pygame\n",
    "# pygame.init()"
   ]
  },
  {
   "cell_type": "code",
   "execution_count": null,
   "metadata": {},
   "outputs": [],
   "source": [
    "pygame.display.init()"
   ]
  },
  {
   "cell_type": "code",
   "execution_count": null,
   "metadata": {},
   "outputs": [],
   "source": [
    "BLACK = (0, 0, 0)\n",
    "WHITE = (255, 255, 255)\n",
    "RED = (255, 0, 0)\n",
    "GREEN = (0, 255, 0)\n",
    "BLUE = (0, 0, 255)\n",
    "\n",
    "# For each cell:\n",
    "WIDTH = 30\n",
    "HEIGHT = 30\n",
    "\n",
    "MARGIN = 5\n",
    "\n",
    "# For the grid:\n",
    "ROWS = 10\n",
    "COLUMNS = 10"
   ]
  },
  {
   "cell_type": "code",
   "execution_count": null,
   "metadata": {},
   "outputs": [
    {
     "data": {
      "text/plain": [
       "array([[0, 0, 0, 0, 0, 0, 0, 0, 0, 0],\n",
       "       [0, 0, 0, 0, 0, 0, 0, 0, 0, 0],\n",
       "       [0, 0, 0, 0, 0, 0, 0, 0, 0, 0],\n",
       "       [0, 0, 0, 0, 0, 0, 0, 0, 0, 0],\n",
       "       [0, 0, 0, 0, 0, 0, 0, 0, 0, 0],\n",
       "       [0, 0, 0, 0, 0, 0, 0, 0, 0, 0],\n",
       "       [0, 0, 0, 0, 0, 0, 0, 0, 0, 0],\n",
       "       [0, 0, 0, 0, 0, 0, 0, 0, 0, 0],\n",
       "       [0, 0, 0, 0, 0, 0, 0, 0, 0, 0],\n",
       "       [0, 0, 0, 0, 0, 0, 0, 0, 0, 0]])"
      ]
     },
     "execution_count": 6,
     "metadata": {},
     "output_type": "execute_result"
    }
   ],
   "source": [
    "grid = np.zeros((ROWS, COLUMNS), dtype=int)\n",
    "grid"
   ]
  },
  {
   "cell_type": "code",
   "execution_count": null,
   "metadata": {},
   "outputs": [],
   "source": [
    "pygame.init()\n",
    "\n",
    "WINDOWS_SIZE = [500, 500]\n",
    "screen = pygame.display.set_mode(WINDOWS_SIZE)\n",
    "pygame.display.set_caption(\"Game of Life\")\n",
    "\n",
    "\n",
    "done = False\n",
    "\n",
    "clock = pygame.time.Clock()\n"
   ]
  },
  {
   "cell_type": "code",
   "execution_count": null,
   "metadata": {},
   "outputs": [],
   "source": [
    "FONT_SIZE = 16\n",
    "\n",
    "font = pygame.font.Font(None, FONT_SIZE)"
   ]
  },
  {
   "cell_type": "code",
   "execution_count": null,
   "metadata": {},
   "outputs": [
    {
     "name": "stdout",
     "output_type": "stream",
     "text": [
      "Click  (191, 196) Grid coordinates:  5 5\n",
      "Click  (132, 161) Grid coordinates:  4 3\n",
      "Click  (168, 70) Grid coordinates:  2 4\n",
      "Click  (189, 247) Grid coordinates:  7 5\n",
      "Click  (21, 11) Grid coordinates:  0 0\n",
      "Click  (22, 28) Grid coordinates:  0 0\n",
      "Click  (22, 23) Grid coordinates:  0 0\n",
      "Click  (73, 71) Grid coordinates:  2 2\n",
      "Click  (38, 212) Grid coordinates:  6 1\n",
      "Click  (101, 270) Grid coordinates:  7 2\n",
      "Click  (25, 24) Grid coordinates:  0 0\n",
      "Click  (25, 24) Grid coordinates:  0 0\n",
      "Click  (25, 24) Grid coordinates:  0 0\n",
      "Click  (230, 117) Grid coordinates:  3 6\n",
      "Click  (290, 255) Grid coordinates:  7 8\n",
      "Click  (291, 349) Grid coordinates:  9 8\n",
      "Click  (319, 349) Grid coordinates:  9 9\n",
      "Click  (330, 348) Grid coordinates:  9 9\n"
     ]
    }
   ],
   "source": [
    "while not done:\n",
    "    for event in pygame.event.get():\n",
    "        if event.type == pygame.QUIT:\n",
    "            done = True\n",
    "        elif event.type == pygame.MOUSEBUTTONDOWN:\n",
    "            pos = pygame.mouse.get_pos()\n",
    "            if ( pos[0] >= WIDTH * COLUMNS + MARGIN * (COLUMNS) \n",
    "                or pos[1] >= HEIGHT * ROWS + MARGIN * (ROWS) ):\n",
    "                continue\n",
    "            column = pos[0] // (WIDTH + MARGIN)\n",
    "            row = pos[1] // (HEIGHT + MARGIN)\n",
    "            grid[row, column] = 1\n",
    "            print(\"Click \", pos, \"Grid coordinates: \", row, column)\n",
    "\n",
    "    screen.fill(BLACK)\n",
    "\n",
    "    for row in range(ROWS):\n",
    "        for column in range(COLUMNS):\n",
    "            color = WHITE\n",
    "            if grid[row, column] == 1:\n",
    "                color = GREEN\n",
    "            pygame.draw.rect(screen,\n",
    "                             color,\n",
    "                             [(MARGIN + WIDTH) * column + MARGIN,\n",
    "                              (MARGIN + HEIGHT) * row + MARGIN,\n",
    "                              WIDTH,\n",
    "                              HEIGHT])\n",
    "            \n",
    "            # render text onto a surface\n",
    "            text_rabbits = font.render(f\"C: {8}\", True, (0, 0, 0))\n",
    "            # blit the surface onto the screen\n",
    "            screen.blit(text_rabbits, [(MARGIN + WIDTH) * column \n",
    "                + MARGIN , (MARGIN + HEIGHT) \n",
    "                * row + MARGIN ])\n",
    "\n",
    "            text_foxes = font.render(f\"Z: {5}\", True, (0, 0, 0))\n",
    "            # blit the surface onto the screen\n",
    "            screen.blit(text_foxes, [(MARGIN + WIDTH) * column \n",
    "                + MARGIN , (MARGIN + HEIGHT) \n",
    "                * row + MARGIN + FONT_SIZE ])\n",
    "\n",
    "    # change color of the grid[0, 0] every two seconds\n",
    "    if pygame.time.get_ticks() % 4000 < 2000:\n",
    "        grid[0, 0] = 0\n",
    "    else:\n",
    "        grid[0, 0] = 1\n",
    "\n",
    "    clock.tick(60)\n",
    "\n",
    "    pygame.display.flip()\n",
    "\n",
    "pygame.quit()"
   ]
  }
 ],
 "metadata": {
  "kernelspec": {
   "display_name": "nbPygame",
   "language": "python",
   "name": "python3"
  },
  "language_info": {
   "codemirror_mode": {
    "name": "ipython",
    "version": 3
   },
   "file_extension": ".py",
   "mimetype": "text/x-python",
   "name": "python",
   "nbconvert_exporter": "python",
   "pygments_lexer": "ipython3",
   "version": "3.11.0 | packaged by conda-forge | (main, Oct 25 2022, 06:24:40) [GCC 10.4.0]"
  },
  "orig_nbformat": 4,
  "vscode": {
   "interpreter": {
    "hash": "134598a2cd3b23987ae1a29bd6b0d3e00644250c18b30d1150a3b7f4dbd30147"
   }
  }
 },
 "nbformat": 4,
 "nbformat_minor": 2
}
