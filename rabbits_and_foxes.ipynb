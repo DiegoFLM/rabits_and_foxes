{
 "cells": [
  {
   "cell_type": "code",
   "execution_count": 40,
   "metadata": {},
   "outputs": [],
   "source": [
    "import numpy as np\n",
    "np.random.seed(1234)"
   ]
  },
  {
   "attachments": {},
   "cell_type": "markdown",
   "metadata": {},
   "source": [
    "# Strategies"
   ]
  },
  {
   "attachments": {},
   "cell_type": "markdown",
   "metadata": {},
   "source": [
    "## auxiliar functions"
   ]
  },
  {
   "cell_type": "code",
   "execution_count": 25,
   "metadata": {},
   "outputs": [],
   "source": [
    "def is_side(index):\n",
    "    switch = {\n",
    "        0: False,\n",
    "        1: True,\n",
    "        2: False,\n",
    "        3: True,\n",
    "        4: True,\n",
    "        5: False,\n",
    "        6: True,\n",
    "        7: False\n",
    "    }\n",
    "    return switch.get(index, \"Invalid index\")\n",
    "\n",
    "def get_neighbors(index):\n",
    "    switch = {\n",
    "        0: [3, 1],\n",
    "        1: [0, 2],\n",
    "        2: [1, 4],\n",
    "        3: [5, 0],\n",
    "        4: [2, 7],\n",
    "        5: [6, 3],\n",
    "        6: [7, 5],\n",
    "        7: [4, 6]\n",
    "    }\n",
    "    return switch.get(index, \"Invalid index\")\n",
    "\n",
    "def look_next(index, clockwise):\n",
    "    neighbors = get_neighbors(index)\n",
    "    if clockwise:\n",
    "        return neighbors[1]\n",
    "    else:\n",
    "        return neighbors[0]"
   ]
  },
  {
   "cell_type": "code",
   "execution_count": 39,
   "metadata": {},
   "outputs": [
    {
     "data": {
      "text/plain": [
       "4"
      ]
     },
     "execution_count": 39,
     "metadata": {},
     "output_type": "execute_result"
    }
   ],
   "source": [
    "look_next(7, False)"
   ]
  },
  {
   "attachments": {},
   "cell_type": "markdown",
   "metadata": {},
   "source": [
    "## Random Movement"
   ]
  },
  {
   "cell_type": "code",
   "execution_count": 161,
   "metadata": {},
   "outputs": [
    {
     "data": {
      "text/plain": [
       "2"
      ]
     },
     "execution_count": 161,
     "metadata": {},
     "output_type": "execute_result"
    }
   ],
   "source": [
    "def random_movement():\n",
    "    return np.random.randint(0, 8)\n",
    "random_movement()"
   ]
  },
  {
   "attachments": {},
   "cell_type": "markdown",
   "metadata": {},
   "source": [
    "## Rabbit Strategies"
   ]
  },
  {
   "cell_type": "code",
   "execution_count": null,
   "metadata": {},
   "outputs": [],
   "source": [
    "# This function receives the current state (s) of the system and returns the next state\n",
    "# The current state is an array of eight integers, \n",
    "# 0 := Absence of foxes\n",
    "# 1 := Presence of foxes\n",
    "# state index:\n",
    "# 0 1 2\n",
    "# 3   4\n",
    "# 5 6 7\n",
    "\n",
    "def rabbit_strategy(id, s, preferred_direction, clockwise):\n",
    "    neighbors = get_neighbors(preferred_direction)\n",
    "    if not ( s[preferred_direction] \n",
    "            or s[neighbors[0]] \n",
    "            or s[neighbors[1]] ):\n",
    "        return preferred_direction\n",
    "    elif clockwise:\n",
    "        DANGER = True\n",
    "        current_direction = preferred_direction\n",
    "        evaluated_directions = 1\n",
    "        while DANGER and evaluated_directions < 8:\n",
    "            current_direction = (current_direction + 1) % 8\n",
    "            neighbors = get_neighbors(current_direction)\n",
    "            if not ( s[current_direction] \n",
    "                    or s[neighbors[0]] \n",
    "                    or s[neighbors[1]] ):\n",
    "                return current_direction\n",
    "            evaluated_directions += 1\n"
   ]
  },
  {
   "cell_type": "code",
   "execution_count": null,
   "metadata": {},
   "outputs": [],
   "source": [
    "# This function receives the current state (s) of the system and returns the next state\n",
    "# The current state is an array of eight integers, \n",
    "# 0 := Absence of foxes\n",
    "# 1 := Presence of foxes\n",
    "# state index:\n",
    "# 0 1 2\n",
    "# 7   3\n",
    "# 6 5 4\n",
    "\n",
    "def rabbit_strategy(id, s, preferred_direction, clockwise):\n",
    "    neighbors = get_neighbors(preferred_direction)\n",
    "    if not ( s[preferred_direction] \n",
    "            or s[neighbors[0]] \n",
    "            or s[neighbors[1]] ):\n",
    "        return preferred_direction\n",
    "    elif clockwise:\n",
    "        DANGER = True\n",
    "        current_direction = preferred_direction\n",
    "        evaluated_directions = 1\n",
    "        while DANGER and evaluated_directions < 8:\n",
    "            current_direction = (current_direction + 1) % 8\n",
    "            neighbors = get_neighbors(current_direction)\n",
    "            if not ( s[current_direction] \n",
    "                    or s[neighbors[0]] \n",
    "                    or s[neighbors[1]] ):\n",
    "                return current_direction\n",
    "            evaluated_directions += 1"
   ]
  },
  {
   "attachments": {},
   "cell_type": "markdown",
   "metadata": {},
   "source": [
    "## Fox Strategies"
   ]
  },
  {
   "cell_type": "code",
   "execution_count": null,
   "metadata": {},
   "outputs": [],
   "source": []
  },
  {
   "attachments": {},
   "cell_type": "markdown",
   "metadata": {},
   "source": [
    "# Evolutive Algorithm"
   ]
  },
  {
   "cell_type": "code",
   "execution_count": 2,
   "metadata": {},
   "outputs": [],
   "source": [
    "# returns an array of tuples (length = 2) with the last generation chromosomes and their fitness\n",
    "\n",
    "def evolve(rabbits, foxes, timeUnit, rabbit_strategies, fox_strategies, edge_length):\n",
    "    \"\"\"\n",
    "    Applay the genetic algorithm to the chromosomeArray.\n",
    "    Args:\n",
    "        chromosomeArray: (numpy.ndarray) the array of chromosomes to evolve (the 0 generation).\n",
    "        fitnessFunction:((chromosome) -> float) the function that calculates the \n",
    "            fitness of each chromosome.\n",
    "        generations: (int) the number of generations to evolve.\n",
    "\n",
    "    Returns:\n",
    "        (chromosomeArray, fitnessArray, stored, meanFitnessArray)\n",
    "    \"\"\"\n",
    "    currentGeneration = 0\n",
    "    stored = []\n",
    "    while currentGeneration < generations:\n",
    "        fitnessArray = np.apply_along_axis(fitnessFunction, 1, chromosomeArray)\n",
    "        \n",
    "        # get the chromosomes that meet the storingCriteriaFunction conditions."
   ]
  },
  {
   "attachments": {},
   "cell_type": "markdown",
   "metadata": {},
   "source": [
    "# Graphics"
   ]
  },
  {
   "cell_type": "code",
   "execution_count": 3,
   "metadata": {},
   "outputs": [
    {
     "name": "stdout",
     "output_type": "stream",
     "text": [
      "pygame 2.1.3.dev8 (SDL 2.26.2, Python 3.11.0)\n",
      "Hello from the pygame community. https://www.pygame.org/contribute.html\n"
     ]
    }
   ],
   "source": [
    "import numpy as np\n",
    "import pygame\n",
    "# pygame.init()"
   ]
  },
  {
   "cell_type": "code",
   "execution_count": 4,
   "metadata": {},
   "outputs": [],
   "source": [
    "pygame.display.init()"
   ]
  },
  {
   "cell_type": "code",
   "execution_count": 5,
   "metadata": {},
   "outputs": [],
   "source": [
    "BLACK = (0, 0, 0)\n",
    "WHITE = (255, 255, 255)\n",
    "RED = (255, 0, 0)\n",
    "GREEN = (0, 255, 0)\n",
    "BLUE = (0, 0, 255)\n",
    "\n",
    "# For each cell:\n",
    "WIDTH = 30\n",
    "HEIGHT = 30\n",
    "\n",
    "MARGIN = 5\n",
    "\n",
    "# For the grid:\n",
    "ROWS = 10\n",
    "COLUMNS = 10"
   ]
  },
  {
   "cell_type": "code",
   "execution_count": 6,
   "metadata": {},
   "outputs": [
    {
     "data": {
      "text/plain": [
       "array([[[0, 0],\n",
       "        [0, 0],\n",
       "        [0, 0],\n",
       "        [0, 0],\n",
       "        [0, 0],\n",
       "        [0, 0],\n",
       "        [0, 0],\n",
       "        [0, 0],\n",
       "        [0, 0],\n",
       "        [0, 0]],\n",
       "\n",
       "       [[0, 0],\n",
       "        [0, 0],\n",
       "        [0, 0],\n",
       "        [0, 0],\n",
       "        [0, 0],\n",
       "        [0, 0],\n",
       "        [0, 0],\n",
       "        [0, 0],\n",
       "        [0, 0],\n",
       "        [0, 0]],\n",
       "\n",
       "       [[0, 0],\n",
       "        [0, 0],\n",
       "        [0, 0],\n",
       "        [0, 0],\n",
       "        [0, 0],\n",
       "        [0, 0],\n",
       "        [0, 0],\n",
       "        [0, 0],\n",
       "        [0, 0],\n",
       "        [0, 0]],\n",
       "\n",
       "       [[0, 0],\n",
       "        [0, 0],\n",
       "        [0, 0],\n",
       "        [0, 0],\n",
       "        [0, 0],\n",
       "        [0, 0],\n",
       "        [0, 0],\n",
       "        [0, 0],\n",
       "        [0, 0],\n",
       "        [0, 0]],\n",
       "\n",
       "       [[0, 0],\n",
       "        [0, 0],\n",
       "        [0, 0],\n",
       "        [0, 0],\n",
       "        [0, 0],\n",
       "        [0, 0],\n",
       "        [0, 0],\n",
       "        [0, 0],\n",
       "        [0, 0],\n",
       "        [0, 0]],\n",
       "\n",
       "       [[0, 0],\n",
       "        [0, 0],\n",
       "        [0, 0],\n",
       "        [0, 0],\n",
       "        [0, 0],\n",
       "        [0, 0],\n",
       "        [0, 0],\n",
       "        [0, 0],\n",
       "        [0, 0],\n",
       "        [0, 0]],\n",
       "\n",
       "       [[0, 0],\n",
       "        [0, 0],\n",
       "        [0, 0],\n",
       "        [0, 0],\n",
       "        [0, 0],\n",
       "        [0, 0],\n",
       "        [0, 0],\n",
       "        [0, 0],\n",
       "        [0, 0],\n",
       "        [0, 0]],\n",
       "\n",
       "       [[0, 0],\n",
       "        [0, 0],\n",
       "        [0, 0],\n",
       "        [0, 0],\n",
       "        [0, 0],\n",
       "        [0, 0],\n",
       "        [0, 0],\n",
       "        [0, 0],\n",
       "        [0, 0],\n",
       "        [0, 0]],\n",
       "\n",
       "       [[0, 0],\n",
       "        [0, 0],\n",
       "        [0, 0],\n",
       "        [0, 0],\n",
       "        [0, 0],\n",
       "        [0, 0],\n",
       "        [0, 0],\n",
       "        [0, 0],\n",
       "        [0, 0],\n",
       "        [0, 0]],\n",
       "\n",
       "       [[0, 0],\n",
       "        [0, 0],\n",
       "        [0, 0],\n",
       "        [0, 0],\n",
       "        [0, 0],\n",
       "        [0, 0],\n",
       "        [0, 0],\n",
       "        [0, 0],\n",
       "        [0, 0],\n",
       "        [0, 0]]])"
      ]
     },
     "execution_count": 6,
     "metadata": {},
     "output_type": "execute_result"
    }
   ],
   "source": [
    "grid = np.zeros((ROWS, COLUMNS, 2), dtype=int)\n",
    "grid"
   ]
  },
  {
   "cell_type": "code",
   "execution_count": 7,
   "metadata": {},
   "outputs": [],
   "source": [
    "pygame.init()\n",
    "\n",
    "WINDOWS_SIZE = [500, 500]\n",
    "screen = pygame.display.set_mode(WINDOWS_SIZE)\n",
    "pygame.display.set_caption(\"Game of Life\")\n",
    "\n",
    "\n",
    "done = False\n",
    "\n",
    "clock = pygame.time.Clock()\n"
   ]
  },
  {
   "cell_type": "code",
   "execution_count": 8,
   "metadata": {},
   "outputs": [],
   "source": [
    "FONT_SIZE = 16\n",
    "\n",
    "font = pygame.font.Font(None, FONT_SIZE)"
   ]
  },
  {
   "cell_type": "code",
   "execution_count": 9,
   "metadata": {},
   "outputs": [
    {
     "name": "stdout",
     "output_type": "stream",
     "text": [
      "Click  (73, 57) Grid coordinates:  1 2\n",
      "Click  (146, 68) Grid coordinates:  1 4\n",
      "Click  (125, 334) Grid coordinates:  9 3\n",
      "Click  (129, 333) Grid coordinates:  9 3\n",
      "Click  (173, 293) Grid coordinates:  8 4\n",
      "Click  (173, 293) Grid coordinates:  8 4\n",
      "Click  (199, 245) Grid coordinates:  7 5\n",
      "Click  (311, 324) Grid coordinates:  9 8\n",
      "Click  (264, 183) Grid coordinates:  5 7\n",
      "Click  (103, 247) Grid coordinates:  7 2\n",
      "Click  (297, 99) Grid coordinates:  2 8\n",
      "Click  (328, 344) Grid coordinates:  9 9\n",
      "Click  (339, 296) Grid coordinates:  8 9\n",
      "Click  (334, 232) Grid coordinates:  6 9\n",
      "Click  (255, 190) Grid coordinates:  5 7\n",
      "Click  (80, 193) Grid coordinates:  5 2\n",
      "Click  (155, 114) Grid coordinates:  3 4\n",
      "Click  (338, 215) Grid coordinates:  6 9\n",
      "Click  (111, 176) Grid coordinates:  5 3\n",
      "Click  (99, 123) Grid coordinates:  3 2\n",
      "Click  (256, 83) Grid coordinates:  2 7\n",
      "Click  (235, 186) Grid coordinates:  5 6\n",
      "Click  (22, 256) Grid coordinates:  7 0\n",
      "Click  (34, 204) Grid coordinates:  5 0\n",
      "Click  (21, 115) Grid coordinates:  3 0\n",
      "Click  (27, 51) Grid coordinates:  1 0\n",
      "Click  (31, 26) Grid coordinates:  0 0\n",
      "Click  (31, 26) Grid coordinates:  0 0\n",
      "Click  (31, 26) Grid coordinates:  0 0\n",
      "Click  (31, 26) Grid coordinates:  0 0\n",
      "Click  (31, 26) Grid coordinates:  0 0\n",
      "Click  (31, 26) Grid coordinates:  0 0\n",
      "Click  (31, 26) Grid coordinates:  0 0\n",
      "Click  (289, 113) Grid coordinates:  3 8\n",
      "Click  (236, 111) Grid coordinates:  3 6\n",
      "Click  (235, 283) Grid coordinates:  8 6\n",
      "Click  (66, 311) Grid coordinates:  8 1\n",
      "Click  (145, 167) Grid coordinates:  4 4\n",
      "Click  (231, 126) Grid coordinates:  3 6\n",
      "Click  (208, 21) Grid coordinates:  0 5\n",
      "Click  (313, 5) Grid coordinates:  0 8\n",
      "Click  (337, 93) Grid coordinates:  2 9\n",
      "Click  (296, 147) Grid coordinates:  4 8\n",
      "Click  (294, 240) Grid coordinates:  6 8\n",
      "Click  (261, 263) Grid coordinates:  7 7\n",
      "Click  (231, 225) Grid coordinates:  6 6\n",
      "Click  (176, 226) Grid coordinates:  6 5\n",
      "Click  (202, 164) Grid coordinates:  4 5\n"
     ]
    }
   ],
   "source": [
    "while not done:\n",
    "    for event in pygame.event.get():\n",
    "        if event.type == pygame.QUIT:\n",
    "            done = True\n",
    "        elif event.type == pygame.MOUSEBUTTONDOWN:\n",
    "            pos = pygame.mouse.get_pos()\n",
    "            if ( pos[0] >= WIDTH * COLUMNS + MARGIN * (COLUMNS) \n",
    "                or pos[1] >= HEIGHT * ROWS + MARGIN * (ROWS) ):\n",
    "                continue\n",
    "            column = pos[0] // (WIDTH + MARGIN)\n",
    "            row = pos[1] // (HEIGHT + MARGIN)\n",
    "            grid[row, column, 0] = 1\n",
    "            print(\"Click \", pos, \"Grid coordinates: \", row, column)\n",
    "\n",
    "    screen.fill(BLACK)\n",
    "\n",
    "    for row in range(ROWS):\n",
    "        for column in range(COLUMNS):\n",
    "            color = WHITE\n",
    "            if grid[row, column, 0] == 1:\n",
    "                color = GREEN\n",
    "            pygame.draw.rect(screen,\n",
    "                             color,\n",
    "                             [(MARGIN + WIDTH) * column + MARGIN,\n",
    "                              (MARGIN + HEIGHT) * row + MARGIN,\n",
    "                              WIDTH,\n",
    "                              HEIGHT])\n",
    "            \n",
    "            # render text onto a surface\n",
    "            text_rabbits = font.render(f\"C: {8}\", True, (0, 0, 0))\n",
    "            # blit the surface onto the screen\n",
    "            screen.blit(text_rabbits, [(MARGIN + WIDTH) * column \n",
    "                + MARGIN , (MARGIN + HEIGHT) \n",
    "                * row + MARGIN ])\n",
    "\n",
    "            text_foxes = font.render(f\"Z: {5}\", True, (0, 0, 0))\n",
    "            # blit the surface onto the screen\n",
    "            screen.blit(text_foxes, [(MARGIN + WIDTH) * column \n",
    "                + MARGIN , (MARGIN + HEIGHT) \n",
    "                * row + MARGIN + FONT_SIZE ])\n",
    "\n",
    "    # change color of the grid[0, 0] every two seconds\n",
    "    if pygame.time.get_ticks() % 4000 < 2000:\n",
    "        grid[0, 0, 0] = 0\n",
    "    else:\n",
    "        grid[0, 0, 0] = 1\n",
    "\n",
    "    clock.tick(60)\n",
    "\n",
    "    pygame.display.flip()\n",
    "\n",
    "pygame.quit()"
   ]
  }
 ],
 "metadata": {
  "kernelspec": {
   "display_name": "nbPygame",
   "language": "python",
   "name": "python3"
  },
  "language_info": {
   "codemirror_mode": {
    "name": "ipython",
    "version": 3
   },
   "file_extension": ".py",
   "mimetype": "text/x-python",
   "name": "python",
   "nbconvert_exporter": "python",
   "pygments_lexer": "ipython3",
   "version": "3.11.0"
  },
  "orig_nbformat": 4,
  "vscode": {
   "interpreter": {
    "hash": "134598a2cd3b23987ae1a29bd6b0d3e00644250c18b30d1150a3b7f4dbd30147"
   }
  }
 },
 "nbformat": 4,
 "nbformat_minor": 2
}
