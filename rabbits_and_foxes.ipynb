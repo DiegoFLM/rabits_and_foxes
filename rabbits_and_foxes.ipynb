{
 "cells": [
  {
   "cell_type": "code",
   "execution_count": 1,
   "metadata": {},
   "outputs": [],
   "source": [
    "import numpy as np\n",
    "np.random.seed(1234)"
   ]
  },
  {
   "attachments": {},
   "cell_type": "markdown",
   "metadata": {},
   "source": [
    "# Strategies"
   ]
  },
  {
   "attachments": {},
   "cell_type": "markdown",
   "metadata": {},
   "source": [
    "## auxiliar functions"
   ]
  },
  {
   "cell_type": "code",
   "execution_count": 2,
   "metadata": {},
   "outputs": [],
   "source": [
    "def get_neighbors(index, clockwise):\n",
    "    neighbors = []\n",
    "    if clockwise:\n",
    "        neighbors.append((index - 1) % 8)\n",
    "        neighbors.append((index + 1) % 8)\n",
    "    else:\n",
    "        neighbors.append((index + 1) % 8)\n",
    "        neighbors.append((index - 1) % 8)\n",
    "    return neighbors"
   ]
  },
  {
   "cell_type": "code",
   "execution_count": 3,
   "metadata": {},
   "outputs": [],
   "source": [
    "def is_corner(dir):\n",
    "    switch = {\n",
    "        0: True,\n",
    "        1: False,\n",
    "        2: True,\n",
    "        3: False,\n",
    "        4: True,\n",
    "        5: False,\n",
    "        6: True,\n",
    "        7: False\n",
    "    }\n",
    "    return switch.get(dir, False)\n",
    "    "
   ]
  },
  {
   "cell_type": "code",
   "execution_count": 4,
   "metadata": {},
   "outputs": [
    {
     "name": "stdout",
     "output_type": "stream",
     "text": [
      "Corner\n"
     ]
    }
   ],
   "source": [
    "if (is_corner(0)):\n",
    "    print(\"Corner\")\n",
    "else:\n",
    "    print(\"Not a corner\")"
   ]
  },
  {
   "attachments": {},
   "cell_type": "markdown",
   "metadata": {},
   "source": [
    "## Random Movement"
   ]
  },
  {
   "cell_type": "code",
   "execution_count": 5,
   "metadata": {},
   "outputs": [
    {
     "data": {
      "text/plain": [
       "7"
      ]
     },
     "execution_count": 5,
     "metadata": {},
     "output_type": "execute_result"
    }
   ],
   "source": [
    "def random_movement():\n",
    "    return np.random.randint(0, 8)\n",
    "random_movement()"
   ]
  },
  {
   "attachments": {},
   "cell_type": "markdown",
   "metadata": {},
   "source": [
    "## Rabbit Strategies\n",
    "* clockwise_escape()"
   ]
  },
  {
   "cell_type": "code",
   "execution_count": 6,
   "metadata": {},
   "outputs": [],
   "source": [
    "# This function receives the current state (f) of \n",
    "# the system and returns the next state.\n",
    "# The current state (f) is an array of eight integers, \n",
    "# f[i] := amount of foxes in the i-th direction\n",
    "# state index, same as directions:\n",
    "# 0 1 2\n",
    "# 7   3\n",
    "# 6 5 4\n",
    "\n",
    "def clockwise_escape(f, preferred_direction, clockwise):\n",
    "    neighbors = get_neighbors(preferred_direction, clockwise)\n",
    "    if not ( f[preferred_direction] \n",
    "            or f[neighbors[0]] \n",
    "            or f[neighbors[1]] ):\n",
    "        return preferred_direction # safe from visible foxes\n",
    "\n",
    "    current_direction = preferred_direction\n",
    "    evaluated_safer_directions = 1\n",
    "    while evaluated_safer_directions < 8:\n",
    "        if clockwise:\n",
    "            current_direction = (current_direction + 1) % 8\n",
    "        else:\n",
    "            current_direction = (current_direction - 1) % 8\n",
    "\n",
    "        neighbors = get_neighbors(current_direction, clockwise)\n",
    "        if not ( f[current_direction] \n",
    "                or f[neighbors[0]] \n",
    "                or f[neighbors[1]] ):\n",
    "            return current_direction # safe from visible foxes\n",
    "        evaluated_safer_directions += 1\n",
    "\n",
    "    if not (f[preferred_direction]):\n",
    "        return preferred_direction\n",
    "\n",
    "    evaluated_unsafe_directions = 1\n",
    "    while evaluated_unsafe_directions < 8:\n",
    "        if clockwise:\n",
    "            current_direction = (current_direction + 1) % 8\n",
    "        else:\n",
    "            current_direction = (current_direction - 1) % 8\n",
    "\n",
    "        if not (f[current_direction]):\n",
    "            return current_direction\n",
    "        evaluated_unsafe_directions += 1\n",
    "    \n",
    "    return np.argmin(f)\n",
    "        \n",
    "        "
   ]
  },
  {
   "cell_type": "code",
   "execution_count": 7,
   "metadata": {},
   "outputs": [
    {
     "data": {
      "text/plain": [
       "1"
      ]
     },
     "execution_count": 7,
     "metadata": {},
     "output_type": "execute_result"
    }
   ],
   "source": [
    "clockwise_escape([10, 0, 1, 1, 3, 1, 0, 2], 5, False)"
   ]
  },
  {
   "attachments": {},
   "cell_type": "markdown",
   "metadata": {},
   "source": [
    "## Fox Strategies\n",
    "* chasing_1"
   ]
  },
  {
   "cell_type": "code",
   "execution_count": 8,
   "metadata": {},
   "outputs": [],
   "source": [
    "# This function receives the current state (r) of \n",
    "# the system and returns the next state.\n",
    "# The current state (r) is an array of eight integers, \n",
    "# r[i] := amount of rabbits in the i-th direction\n",
    "# state index, same as directions:\n",
    "# 0 1 2\n",
    "# 7   3\n",
    "# 6 5 4\n",
    "\n",
    "\n",
    "def chasing_1(r, preferred_direction, clockwise, diagonal_prediction):\n",
    "    if not( np.any(r) ):\n",
    "        return preferred_direction\n",
    "    best_direction = np.argmax(r)\n",
    "    neighbors = get_neighbors(best_direction, clockwise)\n",
    "    if is_corner( best_direction ) or not( diagonal_prediction ):\n",
    "        return neighbors[1]\n",
    "    else:\n",
    "        return get_neighbors(neighbors[1], clockwise)[1]\n"
   ]
  },
  {
   "cell_type": "code",
   "execution_count": 9,
   "metadata": {},
   "outputs": [
    {
     "data": {
      "text/plain": [
       "3"
      ]
     },
     "execution_count": 9,
     "metadata": {},
     "output_type": "execute_result"
    }
   ],
   "source": [
    "# 0 1 2\n",
    "# 7   3\n",
    "# 6 5 4\n",
    "r = [0, 0, 2, 0, 0, 0, 0, 1]\n",
    "\n",
    "chasing_1(r, 0, True, False)"
   ]
  },
  {
   "cell_type": "code",
   "execution_count": 10,
   "metadata": {},
   "outputs": [
    {
     "data": {
      "text/plain": [
       "5"
      ]
     },
     "execution_count": 10,
     "metadata": {},
     "output_type": "execute_result"
    }
   ],
   "source": [
    "rabbit_amounts = [0, 0, 1, 3, 4, 1, 0, 0]\n",
    "chasing_1(rabbit_amounts, 2, clockwise = True, diagonal_prediction = True)"
   ]
  },
  {
   "cell_type": "code",
   "execution_count": 11,
   "metadata": {},
   "outputs": [
    {
     "data": {
      "text/plain": [
       "4"
      ]
     },
     "execution_count": 11,
     "metadata": {},
     "output_type": "execute_result"
    }
   ],
   "source": [
    "np.argmax(rabbit_amounts)"
   ]
  },
  {
   "attachments": {},
   "cell_type": "markdown",
   "metadata": {},
   "source": [
    "# Grid"
   ]
  },
  {
   "attachments": {},
   "cell_type": "markdown",
   "metadata": {},
   "source": [
    "## valid_position()"
   ]
  },
  {
   "cell_type": "code",
   "execution_count": 12,
   "metadata": {},
   "outputs": [],
   "source": [
    "def valid_position(row, col, shape):\n",
    "    height, width, aux = shape\n",
    "    if row == -1:\n",
    "        row = height - 1\n",
    "    elif row == height:\n",
    "        row = 0\n",
    "\n",
    "    if col == -1:\n",
    "        col = width - 1\n",
    "    elif col == width:\n",
    "        col = 0\n",
    "    \n",
    "    return row, col"
   ]
  },
  {
   "attachments": {},
   "cell_type": "markdown",
   "metadata": {},
   "source": [
    "## get_animals_around()"
   ]
  },
  {
   "cell_type": "code",
   "execution_count": 13,
   "metadata": {},
   "outputs": [
    {
     "data": {
      "text/plain": [
       "array([[[ 0,  1],\n",
       "        [ 2,  3],\n",
       "        [ 4,  5],\n",
       "        [ 6,  7]],\n",
       "\n",
       "       [[ 8,  9],\n",
       "        [10, 11],\n",
       "        [12, 13],\n",
       "        [14, 15]],\n",
       "\n",
       "       [[16, 17],\n",
       "        [18, 19],\n",
       "        [20, 21],\n",
       "        [22, 23]]])"
      ]
     },
     "execution_count": 13,
     "metadata": {},
     "output_type": "execute_result"
    }
   ],
   "source": [
    "# [row, column, [rabbits, foxes]]\n",
    "height = 3\n",
    "width = 4\n",
    "\n",
    "grid = np.zeros((height, width, 2), dtype=int)\n",
    "\n",
    "c = 0\n",
    "for row in range(height):\n",
    "    for col in range(width):\n",
    "        grid[row, col, 0] = c\n",
    "        grid[row, col, 1] = c + 1\n",
    "        c += 2\n",
    "grid"
   ]
  },
  {
   "cell_type": "code",
   "execution_count": 14,
   "metadata": {},
   "outputs": [],
   "source": [
    "# [row, column, [rabbits, foxes]]\n",
    "\n",
    "# 0 1 2\n",
    "# 7   3\n",
    "# 6 5 4\n",
    "\n",
    "def get_animals_around(grid, row, col, animal):\n",
    "\n",
    "    if animal == \"rabbits\":\n",
    "        animal_index = 0\n",
    "    elif animal == \"foxes\":\n",
    "        animal_index = 1\n",
    "\n",
    "    height, width = grid.shape[:2]\n",
    "    if valid_position(row, col, grid.shape) != (row, col):\n",
    "        print(\"Invalid position: ({}, {})\".format(row, col))\n",
    "        return None\n",
    "\n",
    "    map = np.zeros(8, dtype=int)\n",
    "    \n",
    "    for i in range(3):\n",
    "        valid_row, valid_col = valid_position(row - 1, col - 1 + i, grid.shape)\n",
    "        map[i] = grid[valid_row, valid_col, animal_index]\n",
    "      \n",
    "    valid_row, valid_col = valid_position(row, col + 1, grid.shape)\n",
    "    map[3] = grid[valid_row, valid_col, animal_index]    \n",
    "\n",
    "    for i in range(3):\n",
    "        valid_row, valid_col = valid_position(row + 1, col + 1 - i, grid.shape)\n",
    "        map[4 + i] = grid[valid_row, valid_col, animal_index]    \n",
    "    \n",
    "    valid_row, valid_col = valid_position(row, col - 1, grid.shape)\n",
    "    map[7] = grid[valid_row, valid_col, animal_index]\n",
    "\n",
    "    return map"
   ]
  },
  {
   "cell_type": "code",
   "execution_count": 15,
   "metadata": {},
   "outputs": [
    {
     "data": {
      "text/plain": [
       "array([12, 14,  8, 16,  0,  6,  4, 20])"
      ]
     },
     "execution_count": 15,
     "metadata": {},
     "output_type": "execute_result"
    }
   ],
   "source": [
    "# height = 3\n",
    "# width = 4\n",
    "\n",
    "# 0 1 2\n",
    "# 7   3\n",
    "# 6 5 4\n",
    "\n",
    "# 0  2  4  6\n",
    "# 8  10 12 14\n",
    "# 16 18 20 22\n",
    "\n",
    "\n",
    "get_animals_around(grid, 2, 3, \"rabbits\")"
   ]
  },
  {
   "attachments": {},
   "cell_type": "markdown",
   "metadata": {},
   "source": [
    "# Evolution"
   ]
  },
  {
   "attachments": {},
   "cell_type": "markdown",
   "metadata": {},
   "source": [
    "## breed_rabbits()"
   ]
  },
  {
   "cell_type": "code",
   "execution_count": 16,
   "metadata": {},
   "outputs": [
    {
     "data": {
      "text/plain": [
       "array([[[ 0,  1],\n",
       "        [ 2,  3],\n",
       "        [ 4,  5],\n",
       "        [ 6,  7]],\n",
       "\n",
       "       [[ 8,  9],\n",
       "        [10, 11],\n",
       "        [12, 13],\n",
       "        [14, 15]],\n",
       "\n",
       "       [[16, 17],\n",
       "        [18, 19],\n",
       "        [20, 21],\n",
       "        [22, 23]]])"
      ]
     },
     "execution_count": 16,
     "metadata": {},
     "output_type": "execute_result"
    }
   ],
   "source": [
    "# [row, column, [rabbits, foxes]]\n",
    "height = 3\n",
    "width = 4\n",
    "\n",
    "grid = np.zeros((height, width, 2), dtype=int)\n",
    "\n",
    "c = 0\n",
    "for row in range(height):\n",
    "    for col in range(width):\n",
    "        grid[row, col, 0] = c\n",
    "        grid[row, col, 1] = c + 1\n",
    "        c += 2\n",
    "grid"
   ]
  },
  {
   "cell_type": "code",
   "execution_count": 17,
   "metadata": {},
   "outputs": [],
   "source": [
    "def breed_rabbits(map):\n",
    "    animal_index = 0\n",
    "    map[:,:,animal_index] += map[:,:,animal_index]"
   ]
  },
  {
   "cell_type": "code",
   "execution_count": 18,
   "metadata": {},
   "outputs": [
    {
     "data": {
      "text/plain": [
       "array([[[ 0,  1],\n",
       "        [ 4,  3],\n",
       "        [ 8,  5],\n",
       "        [12,  7]],\n",
       "\n",
       "       [[16,  9],\n",
       "        [20, 11],\n",
       "        [24, 13],\n",
       "        [28, 15]],\n",
       "\n",
       "       [[32, 17],\n",
       "        [36, 19],\n",
       "        [40, 21],\n",
       "        [44, 23]]])"
      ]
     },
     "execution_count": 18,
     "metadata": {},
     "output_type": "execute_result"
    }
   ],
   "source": [
    "#grid[:,:,1] += grid[:,:,1]\n",
    "breed_rabbits(grid)\n",
    "grid"
   ]
  },
  {
   "attachments": {},
   "cell_type": "markdown",
   "metadata": {},
   "source": [
    "## foxes_hunt_and_breed()"
   ]
  },
  {
   "cell_type": "code",
   "execution_count": 19,
   "metadata": {},
   "outputs": [
    {
     "data": {
      "text/plain": [
       "array([[[1, 2],\n",
       "        [3, 0]],\n",
       "\n",
       "       [[2, 1],\n",
       "        [0, 3]],\n",
       "\n",
       "       [[3, 3],\n",
       "        [3, 5]]])"
      ]
     },
     "execution_count": 19,
     "metadata": {},
     "output_type": "execute_result"
    }
   ],
   "source": [
    "# [row, column, [rabbits, foxes]]\n",
    "width = 2\n",
    "height = 3\n",
    "\n",
    "grid = np.zeros((height, width, 2), dtype=int)\n",
    "\n",
    "grid[0,0,0] = 1\n",
    "grid[0,0,1] = 2\n",
    "\n",
    "grid[0,1,0] = 3\n",
    "grid[0,1,1] = 0\n",
    "\n",
    "grid[1,0,0] = 2\n",
    "grid[1,0,1] = 1\n",
    "\n",
    "grid[1,1,0] = 0\n",
    "grid[1,1,1] = 3\n",
    "\n",
    "grid[2,0,0] = 3\n",
    "grid[2,0,1] = 3\n",
    "\n",
    "grid[2,1,0] = 3\n",
    "grid[2,1,1] = 5\n",
    "\n",
    "grid "
   ]
  },
  {
   "cell_type": "code",
   "execution_count": 20,
   "metadata": {},
   "outputs": [
    {
     "data": {
      "text/plain": [
       "array([[[1, 2],\n",
       "        [3, 0]],\n",
       "\n",
       "       [[2, 1],\n",
       "        [0, 3]],\n",
       "\n",
       "       [[3, 3],\n",
       "        [3, 5]]])"
      ]
     },
     "execution_count": 20,
     "metadata": {},
     "output_type": "execute_result"
    }
   ],
   "source": [
    "np.array(\n",
    "    [[[1,2], [3,0]],\n",
    "    [[2,1], [0,3]],\n",
    "    [[3,3], [3,5]]] )"
   ]
  },
  {
   "cell_type": "code",
   "execution_count": 21,
   "metadata": {},
   "outputs": [
    {
     "data": {
      "text/plain": [
       "array([[[1, 2],\n",
       "        [3, 0]],\n",
       "\n",
       "       [[2, 1],\n",
       "        [0, 3]],\n",
       "\n",
       "       [[3, 3],\n",
       "        [3, 5]]])"
      ]
     },
     "execution_count": 21,
     "metadata": {},
     "output_type": "execute_result"
    }
   ],
   "source": [
    "grid"
   ]
  },
  {
   "cell_type": "code",
   "execution_count": 22,
   "metadata": {},
   "outputs": [],
   "source": [
    "def foxes_hunt_and_breed(map):\n",
    "    for r in range(map.shape[0]):\n",
    "        for c in range(map.shape[1]):\n",
    "            if (map[r,c,:] == 0).any():\n",
    "                continue\n",
    "            else:\n",
    "                hunted_rabbits = np.min( map[r,c,:] )\n",
    "                map[r, c, 0] -= hunted_rabbits\n",
    "                map[r, c, 1] += hunted_rabbits\n",
    "    return map\n",
    "    "
   ]
  },
  {
   "cell_type": "code",
   "execution_count": 23,
   "metadata": {},
   "outputs": [
    {
     "data": {
      "text/plain": [
       "array([[[0, 3],\n",
       "        [3, 0]],\n",
       "\n",
       "       [[1, 2],\n",
       "        [0, 3]],\n",
       "\n",
       "       [[0, 6],\n",
       "        [0, 8]]])"
      ]
     },
     "execution_count": 23,
     "metadata": {},
     "output_type": "execute_result"
    }
   ],
   "source": [
    "foxes_hunt_and_breed(grid)"
   ]
  },
  {
   "cell_type": "code",
   "execution_count": 24,
   "metadata": {},
   "outputs": [
    {
     "data": {
      "text/plain": [
       "array([[0, 1],\n",
       "       [1, 0],\n",
       "       [2, 2]])"
      ]
     },
     "execution_count": 24,
     "metadata": {},
     "output_type": "execute_result"
    }
   ],
   "source": [
    "m1 = np.zeros(grid.shape[:2], dtype=int)\n",
    "m1[0,1] = 1\n",
    "m1[1,0] = 1\n",
    "m1[2,0] = 2\n",
    "m1[2,1] = 2\n",
    "\n",
    "m1\n"
   ]
  },
  {
   "attachments": {},
   "cell_type": "markdown",
   "metadata": {},
   "source": [
    "## evolve()"
   ]
  },
  {
   "cell_type": "code",
   "execution_count": 25,
   "metadata": {},
   "outputs": [],
   "source": [
    "# returns the state of the system after one time unit\n",
    "\n",
    "def evolve(rabbits, foxes, rabbit_strategies, fox_strategies, edge_length):\n",
    "    pass\n",
    "    "
   ]
  },
  {
   "attachments": {},
   "cell_type": "markdown",
   "metadata": {},
   "source": [
    "# Graphics"
   ]
  },
  {
   "cell_type": "code",
   "execution_count": 26,
   "metadata": {},
   "outputs": [
    {
     "name": "stdout",
     "output_type": "stream",
     "text": [
      "pygame 2.1.3.dev8 (SDL 2.26.2, Python 3.11.0)\n",
      "Hello from the pygame community. https://www.pygame.org/contribute.html\n"
     ]
    }
   ],
   "source": [
    "import numpy as np\n",
    "import pygame\n",
    "# pygame.init()"
   ]
  },
  {
   "cell_type": "code",
   "execution_count": 27,
   "metadata": {},
   "outputs": [],
   "source": [
    "pygame.display.init()"
   ]
  },
  {
   "cell_type": "code",
   "execution_count": 28,
   "metadata": {},
   "outputs": [],
   "source": [
    "BLACK = (0, 0, 0)\n",
    "WHITE = (255, 255, 255)\n",
    "RED = (255, 0, 0)\n",
    "GREEN = (0, 255, 0)\n",
    "BLUE = (0, 0, 255)\n",
    "\n",
    "# For each cell:\n",
    "WIDTH = 30\n",
    "HEIGHT = 30\n",
    "\n",
    "MARGIN = 5\n",
    "\n",
    "# For the grid:\n",
    "ROWS = 10\n",
    "COLUMNS = 10"
   ]
  },
  {
   "cell_type": "code",
   "execution_count": 29,
   "metadata": {},
   "outputs": [
    {
     "data": {
      "text/plain": [
       "array([[[0, 0],\n",
       "        [0, 0],\n",
       "        [0, 0],\n",
       "        [0, 0],\n",
       "        [0, 0],\n",
       "        [0, 0],\n",
       "        [0, 0],\n",
       "        [0, 0],\n",
       "        [0, 0],\n",
       "        [0, 0]],\n",
       "\n",
       "       [[0, 0],\n",
       "        [0, 0],\n",
       "        [0, 0],\n",
       "        [0, 0],\n",
       "        [0, 0],\n",
       "        [0, 0],\n",
       "        [0, 0],\n",
       "        [0, 0],\n",
       "        [0, 0],\n",
       "        [0, 0]],\n",
       "\n",
       "       [[0, 0],\n",
       "        [0, 0],\n",
       "        [0, 0],\n",
       "        [0, 0],\n",
       "        [0, 0],\n",
       "        [0, 0],\n",
       "        [0, 0],\n",
       "        [0, 0],\n",
       "        [0, 0],\n",
       "        [0, 0]],\n",
       "\n",
       "       [[0, 0],\n",
       "        [0, 0],\n",
       "        [0, 0],\n",
       "        [0, 0],\n",
       "        [0, 0],\n",
       "        [0, 0],\n",
       "        [0, 0],\n",
       "        [0, 0],\n",
       "        [0, 0],\n",
       "        [0, 0]],\n",
       "\n",
       "       [[0, 0],\n",
       "        [0, 0],\n",
       "        [0, 0],\n",
       "        [0, 0],\n",
       "        [0, 0],\n",
       "        [0, 0],\n",
       "        [0, 0],\n",
       "        [0, 0],\n",
       "        [0, 0],\n",
       "        [0, 0]],\n",
       "\n",
       "       [[0, 0],\n",
       "        [0, 0],\n",
       "        [0, 0],\n",
       "        [0, 0],\n",
       "        [0, 0],\n",
       "        [0, 0],\n",
       "        [0, 0],\n",
       "        [0, 0],\n",
       "        [0, 0],\n",
       "        [0, 0]],\n",
       "\n",
       "       [[0, 0],\n",
       "        [0, 0],\n",
       "        [0, 0],\n",
       "        [0, 0],\n",
       "        [0, 0],\n",
       "        [0, 0],\n",
       "        [0, 0],\n",
       "        [0, 0],\n",
       "        [0, 0],\n",
       "        [0, 0]],\n",
       "\n",
       "       [[0, 0],\n",
       "        [0, 0],\n",
       "        [0, 0],\n",
       "        [0, 0],\n",
       "        [0, 0],\n",
       "        [0, 0],\n",
       "        [0, 0],\n",
       "        [0, 0],\n",
       "        [0, 0],\n",
       "        [0, 0]],\n",
       "\n",
       "       [[0, 0],\n",
       "        [0, 0],\n",
       "        [0, 0],\n",
       "        [0, 0],\n",
       "        [0, 0],\n",
       "        [0, 0],\n",
       "        [0, 0],\n",
       "        [0, 0],\n",
       "        [0, 0],\n",
       "        [0, 0]],\n",
       "\n",
       "       [[0, 0],\n",
       "        [0, 0],\n",
       "        [0, 0],\n",
       "        [0, 0],\n",
       "        [0, 0],\n",
       "        [0, 0],\n",
       "        [0, 0],\n",
       "        [0, 0],\n",
       "        [0, 0],\n",
       "        [0, 0]]])"
      ]
     },
     "execution_count": 29,
     "metadata": {},
     "output_type": "execute_result"
    }
   ],
   "source": [
    "# [row, column, [rabbits, foxes]]\n",
    "\n",
    "grid = np.zeros((ROWS, COLUMNS, 2), dtype=int)\n",
    "grid"
   ]
  },
  {
   "cell_type": "code",
   "execution_count": 30,
   "metadata": {},
   "outputs": [],
   "source": [
    "pygame.init()\n",
    "\n",
    "WINDOWS_SIZE = [500, 500]\n",
    "screen = pygame.display.set_mode(WINDOWS_SIZE)\n",
    "pygame.display.set_caption(\"Game of Life\")\n",
    "\n",
    "\n",
    "done = False\n",
    "\n",
    "clock = pygame.time.Clock()\n"
   ]
  },
  {
   "cell_type": "code",
   "execution_count": 31,
   "metadata": {},
   "outputs": [],
   "source": [
    "FONT_SIZE = 16\n",
    "\n",
    "font = pygame.font.Font(None, FONT_SIZE)"
   ]
  },
  {
   "cell_type": "code",
   "execution_count": 32,
   "metadata": {},
   "outputs": [
    {
     "name": "stdout",
     "output_type": "stream",
     "text": [
      "Click  (72, 59) Grid coordinates:  1 2\n",
      "Click  (203, 123) Grid coordinates:  3 5\n",
      "Click  (89, 250) Grid coordinates:  7 2\n",
      "Click  (248, 320) Grid coordinates:  9 7\n",
      "Click  (286, 184) Grid coordinates:  5 8\n",
      "Click  (132, 174) Grid coordinates:  4 3\n",
      "Click  (184, 226) Grid coordinates:  6 5\n",
      "Click  (136, 329) Grid coordinates:  9 3\n",
      "Click  (67, 187) Grid coordinates:  5 1\n",
      "Click  (313, 346) Grid coordinates:  9 8\n",
      "Click  (334, 340) Grid coordinates:  9 9\n",
      "Click  (332, 283) Grid coordinates:  8 9\n",
      "Click  (330, 240) Grid coordinates:  6 9\n",
      "Click  (330, 212) Grid coordinates:  6 9\n",
      "Click  (320, 165) Grid coordinates:  4 9\n"
     ]
    }
   ],
   "source": [
    "while not done:\n",
    "    for event in pygame.event.get():\n",
    "        if event.type == pygame.QUIT:\n",
    "            done = True\n",
    "        elif event.type == pygame.MOUSEBUTTONDOWN:\n",
    "            pos = pygame.mouse.get_pos()\n",
    "            if ( pos[0] >= WIDTH * COLUMNS + MARGIN * (COLUMNS) \n",
    "                or pos[1] >= HEIGHT * ROWS + MARGIN * (ROWS) ):\n",
    "                continue\n",
    "            column = pos[0] // (WIDTH + MARGIN)\n",
    "            row = pos[1] // (HEIGHT + MARGIN)\n",
    "            grid[row, column, 0] = 1\n",
    "            print(\"Click \", pos, \"Grid coordinates: \", row, column)\n",
    "\n",
    "    screen.fill(BLACK)\n",
    "\n",
    "    for row in range(ROWS):\n",
    "        for column in range(COLUMNS):\n",
    "            color = WHITE\n",
    "            if grid[row, column, 0] == 1:\n",
    "                color = GREEN\n",
    "            pygame.draw.rect(screen,\n",
    "                             color,\n",
    "                             [(MARGIN + WIDTH) * column + MARGIN,\n",
    "                              (MARGIN + HEIGHT) * row + MARGIN,\n",
    "                              WIDTH,\n",
    "                              HEIGHT])\n",
    "            \n",
    "            # render text onto a surface\n",
    "            text_rabbits = font.render(f\"C: {8}\", True, (0, 0, 0))\n",
    "            # blit the surface onto the screen\n",
    "            screen.blit(text_rabbits, [(MARGIN + WIDTH) * column \n",
    "                + MARGIN , (MARGIN + HEIGHT) \n",
    "                * row + MARGIN ])\n",
    "\n",
    "            text_foxes = font.render(f\"Z: {5}\", True, (0, 0, 0))\n",
    "            # blit the surface onto the screen\n",
    "            screen.blit(text_foxes, [(MARGIN + WIDTH) * column \n",
    "                + MARGIN , (MARGIN + HEIGHT) \n",
    "                * row + MARGIN + FONT_SIZE ])\n",
    "\n",
    "    # change color of the grid[0, 0] every two seconds\n",
    "    if pygame.time.get_ticks() % 4000 < 2000:\n",
    "        grid[0, 0, 0] = 0\n",
    "    else:\n",
    "        grid[0, 0, 0] = 1\n",
    "\n",
    "    clock.tick(60)\n",
    "\n",
    "    pygame.display.flip()\n",
    "\n",
    "pygame.quit()"
   ]
  }
 ],
 "metadata": {
  "kernelspec": {
   "display_name": "nbPygame",
   "language": "python",
   "name": "python3"
  },
  "language_info": {
   "codemirror_mode": {
    "name": "ipython",
    "version": 3
   },
   "file_extension": ".py",
   "mimetype": "text/x-python",
   "name": "python",
   "nbconvert_exporter": "python",
   "pygments_lexer": "ipython3",
   "version": "3.11.0"
  },
  "orig_nbformat": 4,
  "vscode": {
   "interpreter": {
    "hash": "134598a2cd3b23987ae1a29bd6b0d3e00644250c18b30d1150a3b7f4dbd30147"
   }
  }
 },
 "nbformat": 4,
 "nbformat_minor": 2
}
